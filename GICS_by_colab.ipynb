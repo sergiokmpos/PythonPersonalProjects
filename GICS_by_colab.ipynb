{
  "nbformat": 4,
  "nbformat_minor": 0,
  "metadata": {
    "colab": {
      "name": "GICS by colab.ipynb",
      "provenance": [],
      "collapsed_sections": [
        "PnH00hzIYhJp"
      ],
      "authorship_tag": "ABX9TyOPcW8Aic6OLJCFrrJ1qQV0",
      "include_colab_link": true
    },
    "kernelspec": {
      "display_name": "Python 3",
      "name": "python3"
    },
    "language_info": {
      "name": "python"
    }
  },
  "cells": [
    {
      "cell_type": "markdown",
      "metadata": {
        "id": "view-in-github",
        "colab_type": "text"
      },
      "source": [
        "<a href=\"https://colab.research.google.com/github/sergiokmpos/PythonPersonalProjects/blob/main/GICS_by_colab.ipynb\" target=\"_parent\"><img src=\"https://colab.research.google.com/assets/colab-badge.svg\" alt=\"Open In Colab\"/></a>"
      ]
    },
    {
      "cell_type": "markdown",
      "metadata": {
        "id": "PnH00hzIYhJp"
      },
      "source": [
        "# Instalação e  importação e Código"
      ]
    },
    {
      "cell_type": "code",
      "metadata": {
        "id": "OafywD09LjhU",
        "colab": {
          "base_uri": "https://localhost:8080/"
        },
        "outputId": "ed3dc906-7c76-41c3-f347-fa2c9b8073f8"
      },
      "source": [
        "pip install -q kora"
      ],
      "execution_count": null,
      "outputs": [
        {
          "output_type": "stream",
          "name": "stdout",
          "text": [
            "\u001b[?25l\r\u001b[K     |█████▊                          | 10 kB 23.8 MB/s eta 0:00:01\r\u001b[K     |███████████▍                    | 20 kB 17.3 MB/s eta 0:00:01\r\u001b[K     |█████████████████               | 30 kB 11.4 MB/s eta 0:00:01\r\u001b[K     |██████████████████████▊         | 40 kB 9.4 MB/s eta 0:00:01\r\u001b[K     |████████████████████████████▍   | 51 kB 5.3 MB/s eta 0:00:01\r\u001b[K     |████████████████████████████████| 57 kB 2.6 MB/s \n",
            "\u001b[?25h\u001b[?25l\r\u001b[K     |█████▊                          | 10 kB 22.5 MB/s eta 0:00:01\r\u001b[K     |███████████▌                    | 20 kB 28.0 MB/s eta 0:00:01\r\u001b[K     |█████████████████▎              | 30 kB 33.3 MB/s eta 0:00:01\r\u001b[K     |███████████████████████         | 40 kB 37.3 MB/s eta 0:00:01\r\u001b[K     |████████████████████████████▉   | 51 kB 41.4 MB/s eta 0:00:01\r\u001b[K     |████████████████████████████████| 56 kB 3.7 MB/s \n",
            "\u001b[?25h"
          ]
        }
      ]
    },
    {
      "cell_type": "code",
      "metadata": {
        "id": "ViHv7kh9LmTr",
        "colab": {
          "base_uri": "https://localhost:8080/"
        },
        "outputId": "898c4293-1f25-4010-bc70-722991d57d9e"
      },
      "source": [
        "pip install -q DataTable"
      ],
      "execution_count": null,
      "outputs": [
        {
          "output_type": "stream",
          "name": "stdout",
          "text": [
            "\u001b[K     |████████████████████████████████| 96.9 MB 79 kB/s \n",
            "\u001b[?25h"
          ]
        }
      ]
    },
    {
      "cell_type": "code",
      "metadata": {
        "id": "kQ1pPlrILqkS"
      },
      "source": [
        "pip install -q plotly"
      ],
      "execution_count": null,
      "outputs": []
    },
    {
      "cell_type": "code",
      "metadata": {
        "colab": {
          "base_uri": "https://localhost:8080/"
        },
        "id": "WVKg5yhDLs6l",
        "outputId": "81f3df73-5e79-4bac-c602-31b34c53da2c"
      },
      "source": [
        "pip install --upgrade plotly"
      ],
      "execution_count": null,
      "outputs": [
        {
          "output_type": "stream",
          "name": "stdout",
          "text": [
            "Requirement already satisfied: plotly in /usr/local/lib/python3.7/dist-packages (4.4.1)\n",
            "Collecting plotly\n",
            "  Downloading plotly-5.5.0-py2.py3-none-any.whl (26.5 MB)\n",
            "\u001b[K     |████████████████████████████████| 26.5 MB 1.5 MB/s \n",
            "\u001b[?25hRequirement already satisfied: six in /usr/local/lib/python3.7/dist-packages (from plotly) (1.15.0)\n",
            "Collecting tenacity>=6.2.0\n",
            "  Downloading tenacity-8.0.1-py3-none-any.whl (24 kB)\n",
            "Installing collected packages: tenacity, plotly\n",
            "  Attempting uninstall: plotly\n",
            "    Found existing installation: plotly 4.4.1\n",
            "    Uninstalling plotly-4.4.1:\n",
            "      Successfully uninstalled plotly-4.4.1\n",
            "Successfully installed plotly-5.5.0 tenacity-8.0.1\n"
          ]
        }
      ]
    },
    {
      "cell_type": "code",
      "metadata": {
        "colab": {
          "base_uri": "https://localhost:8080/"
        },
        "id": "SpwtpN7mLwkb",
        "outputId": "415f6587-f566-4e7f-bbd7-4b5f58d88235"
      },
      "source": [
        "pip install selenium"
      ],
      "execution_count": null,
      "outputs": [
        {
          "output_type": "stream",
          "name": "stdout",
          "text": [
            "Collecting selenium\n",
            "  Downloading selenium-4.1.0-py3-none-any.whl (958 kB)\n",
            "\u001b[K     |████████████████████████████████| 958 kB 5.3 MB/s \n",
            "\u001b[?25hCollecting trio~=0.17\n",
            "  Downloading trio-0.19.0-py3-none-any.whl (356 kB)\n",
            "\u001b[K     |████████████████████████████████| 356 kB 50.5 MB/s \n",
            "\u001b[?25hCollecting trio-websocket~=0.9\n",
            "  Downloading trio_websocket-0.9.2-py3-none-any.whl (16 kB)\n",
            "Collecting urllib3[secure]~=1.26\n",
            "  Downloading urllib3-1.26.7-py2.py3-none-any.whl (138 kB)\n",
            "\u001b[K     |████████████████████████████████| 138 kB 39.5 MB/s \n",
            "\u001b[?25hRequirement already satisfied: attrs>=19.2.0 in /usr/local/lib/python3.7/dist-packages (from trio~=0.17->selenium) (21.2.0)\n",
            "Requirement already satisfied: idna in /usr/local/lib/python3.7/dist-packages (from trio~=0.17->selenium) (2.10)\n",
            "Collecting outcome\n",
            "  Downloading outcome-1.1.0-py2.py3-none-any.whl (9.7 kB)\n",
            "Requirement already satisfied: sortedcontainers in /usr/local/lib/python3.7/dist-packages (from trio~=0.17->selenium) (2.4.0)\n",
            "Collecting sniffio\n",
            "  Downloading sniffio-1.2.0-py3-none-any.whl (10 kB)\n",
            "Collecting async-generator>=1.9\n",
            "  Downloading async_generator-1.10-py3-none-any.whl (18 kB)\n",
            "Collecting wsproto>=0.14\n",
            "  Downloading wsproto-1.0.0-py3-none-any.whl (24 kB)\n",
            "Collecting cryptography>=1.3.4\n",
            "  Downloading cryptography-36.0.1-cp36-abi3-manylinux_2_24_x86_64.whl (3.6 MB)\n",
            "\u001b[K     |████████████████████████████████| 3.6 MB 50.2 MB/s \n",
            "\u001b[?25hRequirement already satisfied: certifi in /usr/local/lib/python3.7/dist-packages (from urllib3[secure]~=1.26->selenium) (2021.10.8)\n",
            "Collecting pyOpenSSL>=0.14\n",
            "  Downloading pyOpenSSL-21.0.0-py2.py3-none-any.whl (55 kB)\n",
            "\u001b[K     |████████████████████████████████| 55 kB 2.8 MB/s \n",
            "\u001b[?25hRequirement already satisfied: cffi>=1.12 in /usr/local/lib/python3.7/dist-packages (from cryptography>=1.3.4->urllib3[secure]~=1.26->selenium) (1.15.0)\n",
            "Requirement already satisfied: pycparser in /usr/local/lib/python3.7/dist-packages (from cffi>=1.12->cryptography>=1.3.4->urllib3[secure]~=1.26->selenium) (2.21)\n",
            "Requirement already satisfied: six>=1.5.2 in /usr/local/lib/python3.7/dist-packages (from pyOpenSSL>=0.14->urllib3[secure]~=1.26->selenium) (1.15.0)\n",
            "Collecting h11<1,>=0.9.0\n",
            "  Downloading h11-0.12.0-py3-none-any.whl (54 kB)\n",
            "\u001b[K     |████████████████████████████████| 54 kB 2.6 MB/s \n",
            "\u001b[?25hInstalling collected packages: sniffio, outcome, h11, cryptography, async-generator, wsproto, urllib3, trio, pyOpenSSL, trio-websocket, selenium\n",
            "  Attempting uninstall: urllib3\n",
            "    Found existing installation: urllib3 1.24.3\n",
            "    Uninstalling urllib3-1.24.3:\n",
            "      Successfully uninstalled urllib3-1.24.3\n",
            "\u001b[31mERROR: pip's dependency resolver does not currently take into account all the packages that are installed. This behaviour is the source of the following dependency conflicts.\n",
            "requests 2.23.0 requires urllib3!=1.25.0,!=1.25.1,<1.26,>=1.21.1, but you have urllib3 1.26.7 which is incompatible.\n",
            "datascience 0.10.6 requires folium==0.2.1, but you have folium 0.8.3 which is incompatible.\u001b[0m\n",
            "Successfully installed async-generator-1.10 cryptography-36.0.1 h11-0.12.0 outcome-1.1.0 pyOpenSSL-21.0.0 selenium-4.1.0 sniffio-1.2.0 trio-0.19.0 trio-websocket-0.9.2 urllib3-1.26.7 wsproto-1.0.0\n"
          ]
        }
      ]
    },
    {
      "cell_type": "code",
      "metadata": {
        "colab": {
          "base_uri": "https://localhost:8080/"
        },
        "id": "XKyLCDNbNTU7",
        "outputId": "847031e3-7f52-484e-c435-600e8f5a5ba2"
      },
      "source": [
        "pip install yfinance"
      ],
      "execution_count": null,
      "outputs": [
        {
          "output_type": "stream",
          "name": "stdout",
          "text": [
            "Collecting yfinance\n",
            "  Downloading yfinance-0.1.67-py2.py3-none-any.whl (25 kB)\n",
            "Requirement already satisfied: multitasking>=0.0.7 in /usr/local/lib/python3.7/dist-packages (from yfinance) (0.0.10)\n",
            "Collecting lxml>=4.5.1\n",
            "  Downloading lxml-4.7.1-cp37-cp37m-manylinux_2_17_x86_64.manylinux2014_x86_64.manylinux_2_24_x86_64.whl (6.4 MB)\n",
            "\u001b[K     |████████████████████████████████| 6.4 MB 7.2 MB/s \n",
            "\u001b[?25hRequirement already satisfied: numpy>=1.15 in /usr/local/lib/python3.7/dist-packages (from yfinance) (1.19.5)\n",
            "Requirement already satisfied: requests>=2.20 in /usr/local/lib/python3.7/dist-packages (from yfinance) (2.23.0)\n",
            "Requirement already satisfied: pandas>=0.24 in /usr/local/lib/python3.7/dist-packages (from yfinance) (1.1.5)\n",
            "Requirement already satisfied: python-dateutil>=2.7.3 in /usr/local/lib/python3.7/dist-packages (from pandas>=0.24->yfinance) (2.8.2)\n",
            "Requirement already satisfied: pytz>=2017.2 in /usr/local/lib/python3.7/dist-packages (from pandas>=0.24->yfinance) (2018.9)\n",
            "Requirement already satisfied: six>=1.5 in /usr/local/lib/python3.7/dist-packages (from python-dateutil>=2.7.3->pandas>=0.24->yfinance) (1.15.0)\n",
            "Collecting urllib3!=1.25.0,!=1.25.1,<1.26,>=1.21.1\n",
            "  Downloading urllib3-1.25.11-py2.py3-none-any.whl (127 kB)\n",
            "\u001b[K     |████████████████████████████████| 127 kB 54.5 MB/s \n",
            "\u001b[?25hRequirement already satisfied: idna<3,>=2.5 in /usr/local/lib/python3.7/dist-packages (from requests>=2.20->yfinance) (2.10)\n",
            "Requirement already satisfied: chardet<4,>=3.0.2 in /usr/local/lib/python3.7/dist-packages (from requests>=2.20->yfinance) (3.0.4)\n",
            "Requirement already satisfied: certifi>=2017.4.17 in /usr/local/lib/python3.7/dist-packages (from requests>=2.20->yfinance) (2021.10.8)\n",
            "Installing collected packages: urllib3, lxml, yfinance\n",
            "  Attempting uninstall: urllib3\n",
            "    Found existing installation: urllib3 1.26.7\n",
            "    Uninstalling urllib3-1.26.7:\n",
            "      Successfully uninstalled urllib3-1.26.7\n",
            "  Attempting uninstall: lxml\n",
            "    Found existing installation: lxml 4.2.6\n",
            "    Uninstalling lxml-4.2.6:\n",
            "      Successfully uninstalled lxml-4.2.6\n",
            "\u001b[31mERROR: pip's dependency resolver does not currently take into account all the packages that are installed. This behaviour is the source of the following dependency conflicts.\n",
            "selenium 4.1.0 requires urllib3[secure]~=1.26, but you have urllib3 1.25.11 which is incompatible.\n",
            "datascience 0.10.6 requires folium==0.2.1, but you have folium 0.8.3 which is incompatible.\u001b[0m\n",
            "Successfully installed lxml-4.7.1 urllib3-1.25.11 yfinance-0.1.67\n"
          ]
        }
      ]
    },
    {
      "cell_type": "code",
      "metadata": {
        "id": "JbBF1QXNSEq8",
        "colab": {
          "base_uri": "https://localhost:8080/"
        },
        "outputId": "ca14e0b2-6b10-4aa1-bd20-d8645bee0601"
      },
      "source": [
        "# @title CODIGO \n",
        "\n",
        "from kora.selenium import wd\n",
        "import pandas as pd\n",
        "from google.colab.data_table import DataTable\n",
        "from time import sleep\n",
        "import plotly.express as px\n",
        "import yfinance as yf\n",
        "\n",
        "ibov = []\n",
        "\n",
        "espera = 3 \n",
        "url='https://sistemaswebb3-listados.b3.com.br/indexPage/day/ibov?language=pt-br'\n",
        "wd.get(url)\n",
        "sleep(espera)\n",
        "wd.find_element_by_id('segment').send_keys(\"Setor de Atuação\")\n",
        "sleep(espera)\n",
        "wd.find_element_by_link_text(\"Download\").click()\n",
        "sleep(espera)\n",
        "arquivos = !ls -1t *.csv\n",
        "ibov = pd.read_csv(arquivos[0], sep=';', encoding='ISO-8859-1',skipfooter=2, \n",
        "                   engine='python', thousands='.', decimal=',', \n",
        "                   header=1, index_col=False)\n",
        "\n",
        "\n",
        "\n",
        "ibov['index'] = ibov['Código'] + \".SA\"\n",
        "\n",
        "ibov = ibov.sort_values('Código', ascending=True)\n",
        "\n",
        "ticker = ibov['index'].tolist()\n",
        "\n",
        "data = yf.download( tickers = ticker, period = \"2d\")\n",
        "datat = data.T\n",
        "\n",
        "QtsColumnsdatat = len(datat.columns)\n",
        "\n",
        "if QtsColumnsdatat ==2:\n",
        "    datat.columns = ['Ontem','Hoje']\n",
        "    datat2 = datat\n",
        "else:\n",
        "  datat.columns = ['Ontem', 'Deletar', 'Hoje']\n",
        "  datat2 = datat.drop(columns=['Deletar'])\n",
        "\n",
        "data3 = datat2[:92] \n",
        "\n",
        "Ontem = data3['Ontem'].tolist()\n",
        "Hoje = data3['Hoje'].tolist()\n",
        "ibov = ibov.assign(Ontem = Ontem, Hoje = Hoje)\n",
        "\n",
        "ibov['Var. %'] =  round((((ibov['Hoje'] / ibov['Ontem']) - 1)*100), 2)\n",
        "ibov[\"Hoje\"] = round(ibov[\"Hoje\"],2)\n",
        "ibov[\"Ontem\"] = round(ibov[\"Ontem\"],2)\n",
        "ibov[\"Part. (%)\"] = round(ibov[\"Part. (%)\"],2)\n",
        "ibov[\"Part. (%)Acum.\"] = round(ibov[\"Part. (%)Acum.\"],2)\n",
        "ibov['SubSetor'] = ibov['Setor'].apply(lambda s: s[s.rfind(\"/\")+1:].strip())\n",
        "ibov['Setor'] = ibov['Setor'].apply(lambda s: s[:s.rfind(\"/\")].strip())\n",
        "ibov['Indice'] = 'IBOV'\n",
        "\n",
        "def bloomberg_standard(setor):\n",
        "  if setor == \"Saúde\": return \"Health Care\"\n",
        "  if setor == \"Financ e Outros\" or setor == \"Financeiro e Outros\": return \"Financials\"\n",
        "  if setor == \"Bens Indls\": return \"Industrials\"\n",
        "  if setor == \"Diverso\" or setor == \"Cons N Cíclico\" : return \"Consumer Staples\"\n",
        "  if setor == \"Cons N  Básico\" : return \"Consumer Staples\"\n",
        "  if setor == \"Consumo Cíclico\": return \"Consumer Discretionary\"\n",
        "  if setor == \"Mats Básicos\": return \"Materials\"\n",
        "  if setor == \"Petróleo\": return \"Energy\"\n",
        "  if setor == \"Tec.Informação\": return \"Information Technology\"\n",
        "  if setor == \"Telecomunicaçã\": return \"Communication Services\"\n",
        "  if setor == \"Utilidade Públ\": return \"Utilities\"\n",
        "  else: return setor\n",
        "\n",
        "  \n",
        "ibov ['Setor'] = ibov['Setor'].apply(bloomberg_standard)"
      ],
      "execution_count": null,
      "outputs": [
        {
          "output_type": "stream",
          "name": "stderr",
          "text": [
            "/usr/local/lib/python3.7/dist-packages/ipykernel_launcher.py:16: DeprecationWarning: find_element_by_* commands are deprecated. Please use find_element() instead\n",
            "  app.launch_new_instance()\n",
            "/usr/local/lib/python3.7/dist-packages/ipykernel_launcher.py:18: DeprecationWarning: find_element_by_* commands are deprecated. Please use find_element() instead\n"
          ]
        },
        {
          "output_type": "stream",
          "name": "stdout",
          "text": [
            "[*********************100%***********************]  92 of 92 completed\n"
          ]
        }
      ]
    },
    {
      "cell_type": "code",
      "metadata": {
        "id": "QdZEYUpOqswi"
      },
      "source": [
        ""
      ],
      "execution_count": null,
      "outputs": []
    },
    {
      "cell_type": "markdown",
      "metadata": {
        "id": "Aq-X2QsCjVF4"
      },
      "source": [
        "# IBOV"
      ]
    },
    {
      "cell_type": "code",
      "metadata": {
        "id": "FlXJSOYGXQaO",
        "cellView": "form",
        "colab": {
          "base_uri": "https://localhost:8080/",
          "height": 315
        },
        "outputId": "8dddb5fc-9d26-4683-f8c7-23b0da86ba7a"
      },
      "source": [
        "# @title IBOV\n",
        "tableibov = DataTable((ibov), num_rows_per_page=10)\n",
        "tableibov"
      ],
      "execution_count": null,
      "outputs": [
        {
          "output_type": "execute_result",
          "data": {
            "application/vnd.google.colaboratory.module+javascript": "\n      import \"https://ssl.gstatic.com/colaboratory/data_table/a6224c040fa35dcf/data_table.js\";\n\n      window.createDataTable({\n        data: [[{\n            'v': 11,\n            'f': \"11\",\n        },\n\"Consumer Staples\",\n\"ABEV3\",\n\"AMBEV S/A\",\n\"ON  EDJ\",\n{\n            'v': 4358814864,\n            'f': \"4358814864\",\n        },\n{\n            'v': 3.45,\n            'f': \"3.45\",\n        },\n{\n            'v': 3.45,\n            'f': \"3.45\",\n        },\n\"ABEV3.SA\",\n{\n            'v': 15.39,\n            'f': \"15.39\",\n        },\n{\n            'v': 15.55,\n            'f': \"15.55\",\n        },\n{\n            'v': 1.04,\n            'f': \"1.04\",\n        },\n\"Bebidas\",\n\"IBOV\"],\n [{\n            'v': 23,\n            'f': \"23\",\n        },\n\"Consumer Discretionary\",\n\"ALPA4\",\n\"ALPARGATAS\",\n\"PN      N1\",\n{\n            'v': 167963777,\n            'f': \"167963777\",\n        },\n{\n            'v': 0.31,\n            'f': \"0.31\",\n        },\n{\n            'v': 0.31,\n            'f': \"0.31\",\n        },\n\"ALPA4.SA\",\n{\n            'v': 37.6,\n            'f': \"37.6\",\n        },\n{\n            'v': 36.54,\n            'f': \"36.54\",\n        },\n{\n            'v': -2.82,\n            'f': \"-2.82\",\n        },\n\"Tecid Vest Cal\\u00e7\",\n\"IBOV\"],\n [{\n            'v': 16,\n            'f': \"16\",\n        },\n\"Consumer Discretionary\",\n\"AMER3\",\n\"AMERICANAS\",\n\"ON      NM\",\n{\n            'v': 546064815,\n            'f': \"546064815\",\n        },\n{\n            'v': 0.85,\n            'f': \"0.85\",\n        },\n{\n            'v': 4.1,\n            'f': \"4.1\",\n        },\n\"AMER3.SA\",\n{\n            'v': 30.62,\n            'f': \"30.62\",\n        },\n{\n            'v': 30.73,\n            'f': \"30.73\",\n        },\n{\n            'v': 0.36,\n            'f': \"0.36\",\n        },\n\"Com\\u00e9rcio\",\n\"IBOV\"],\n [{\n            'v': 12,\n            'f': \"12\",\n        },\n\"Consumer Staples\",\n\"ASAI3\",\n\"ASSAI\",\n\"ON      NM\",\n{\n            'v': 794116430,\n            'f': \"794116430\",\n        },\n{\n            'v': 0.57,\n            'f': \"0.57\",\n        },\n{\n            'v': 1.07,\n            'f': \"1.07\",\n        },\n\"ASAI3.SA\",\n{\n            'v': 14.16,\n            'f': \"14.16\",\n        },\n{\n            'v': 14.09,\n            'f': \"14.09\",\n        },\n{\n            'v': -0.49,\n            'f': \"-0.49\",\n        },\n\"Com\\u00e9rcio Distr.\",\n\"IBOV\"],\n [{\n            'v': 2,\n            'f': \"2\",\n        },\n\"Industrials\",\n\"AZUL4\",\n\"AZUL\",\n\"PN      N2\",\n{\n            'v': 327741172,\n            'f': \"327741172\",\n        },\n{\n            'v': 0.44,\n            'f': \"0.44\",\n        },\n{\n            'v': 2.5,\n            'f': \"2.5\",\n        },\n\"AZUL4.SA\",\n{\n            'v': 26.8,\n            'f': \"26.8\",\n        },\n{\n            'v': 26.46,\n            'f': \"26.46\",\n        },\n{\n            'v': -1.27,\n            'f': \"-1.27\",\n        },\n\"Transporte\",\n\"IBOV\"],\n [{\n            'v': 49,\n            'f': \"49\",\n        },\n\"Financials\",\n\"B3SA3\",\n\"B3\",\n\"ON  ED  NM\",\n{\n            'v': 6079530858,\n            'f': \"6079530858\",\n        },\n{\n            'v': 3.52,\n            'f': \"3.52\",\n        },\n{\n            'v': 3.66,\n            'f': \"3.66\",\n        },\n\"B3SA3.SA\",\n{\n            'v': 11.5,\n            'f': \"11.5\",\n        },\n{\n            'v': 11.38,\n            'f': \"11.38\",\n        },\n{\n            'v': -1.04,\n            'f': \"-1.04\",\n        },\n\"Servi\\u00e7os Financeiros Diversos\",\n\"IBOV\"],\n [{\n            'v': 41,\n            'f': \"41\",\n        },\n\"Financials\",\n\"BBAS3\",\n\"BRASIL\",\n\"ON      NM\",\n{\n            'v': 1420530937,\n            'f': \"1420530937\",\n        },\n{\n            'v': 2.11,\n            'f': \"2.11\",\n        },\n{\n            'v': 18.16,\n            'f': \"18.16\",\n        },\n\"BBAS3.SA\",\n{\n            'v': 29.33,\n            'f': \"29.33\",\n        },\n{\n            'v': 29.22,\n            'f': \"29.22\",\n        },\n{\n            'v': -0.38,\n            'f': \"-0.38\",\n        },\n\"Interms Financs\",\n\"IBOV\"],\n [{\n            'v': 39,\n            'f': \"39\",\n        },\n\"Financials\",\n\"BBDC3\",\n\"BRADESCO\",\n\"ON  EDJ N1\",\n{\n            'v': 1378842305,\n            'f': \"1378842305\",\n        },\n{\n            'v': 1.14,\n            'f': \"1.14\",\n        },\n{\n            'v': 18.16,\n            'f': \"18.16\",\n        },\n\"BBDC3.SA\",\n{\n            'v': 16.27,\n            'f': \"16.27\",\n        },\n{\n            'v': 16.25,\n            'f': \"16.25\",\n        },\n{\n            'v': -0.12,\n            'f': \"-0.12\",\n        },\n\"Interms Financs\",\n\"IBOV\"],\n [{\n            'v': 40,\n            'f': \"40\",\n        },\n\"Financials\",\n\"BBDC4\",\n\"BRADESCO\",\n\"PN  EDJ N1\",\n{\n            'v': 4691427537,\n            'f': \"4691427537\",\n        },\n{\n            'v': 4.59,\n            'f': \"4.59\",\n        },\n{\n            'v': 18.16,\n            'f': \"18.16\",\n        },\n\"BBDC4.SA\",\n{\n            'v': 19.18,\n            'f': \"19.18\",\n        },\n{\n            'v': 19.24,\n            'f': \"19.24\",\n        },\n{\n            'v': 0.31,\n            'f': \"0.31\",\n        },\n\"Interms Financs\",\n\"IBOV\"],\n [{\n            'v': 46,\n            'f': \"46\",\n        },\n\"Financials\",\n\"BBSE3\",\n\"BBSEGURIDADE\",\n\"ON      NM\",\n{\n            'v': 671629692,\n            'f': \"671629692\",\n        },\n{\n            'v': 0.7,\n            'f': \"0.7\",\n        },\n{\n            'v': 1.32,\n            'f': \"1.32\",\n        },\n\"BBSE3.SA\",\n{\n            'v': 20.51,\n            'f': \"20.51\",\n        },\n{\n            'v': 20.62,\n            'f': \"20.62\",\n        },\n{\n            'v': 0.54,\n            'f': \"0.54\",\n        },\n\"Previd  Seguros\",\n\"IBOV\"],\n [{\n            'v': 10,\n            'f': \"10\",\n        },\n\"Consumer Staples\",\n\"BEEF3\",\n\"MINERVA\",\n\"ON      NM\",\n{\n            'v': 242962308,\n            'f': \"242962308\",\n        },\n{\n            'v': 0.13,\n            'f': \"0.13\",\n        },\n{\n            'v': 4.05,\n            'f': \"4.05\",\n        },\n\"BEEF3.SA\",\n{\n            'v': 10.37,\n            'f': \"10.37\",\n        },\n{\n            'v': 10.53,\n            'f': \"10.53\",\n        },\n{\n            'v': 1.54,\n            'f': \"1.54\",\n        },\n\"Alimentos Processados\",\n\"IBOV\"],\n [{\n            'v': 37,\n            'f': \"37\",\n        },\n\"Financials\",\n\"BIDI11\",\n\"BANCO INTER\",\n\"UNT     N2\",\n{\n            'v': 477617336,\n            'f': \"477617336\",\n        },\n{\n            'v': 0.7,\n            'f': \"0.7\",\n        },\n{\n            'v': 18.16,\n            'f': \"18.16\",\n        },\n\"BIDI11.SA\",\n{\n            'v': 28.58,\n            'f': \"28.58\",\n        },\n{\n            'v': 28.65,\n            'f': \"28.65\",\n        },\n{\n            'v': 0.24,\n            'f': \"0.24\",\n        },\n\"Interms Financs\",\n\"IBOV\"],\n [{\n            'v': 36,\n            'f': \"36\",\n        },\n\"Financials\",\n\"BIDI4\",\n\"BANCO INTER\",\n\"PN      N2\",\n{\n            'v': 186303277,\n            'f': \"186303277\",\n        },\n{\n            'v': 0.09,\n            'f': \"0.09\",\n        },\n{\n            'v': 18.16,\n            'f': \"18.16\",\n        },\n\"BIDI4.SA\",\n{\n            'v': 9.53,\n            'f': \"9.53\",\n        },\n{\n            'v': 9.49,\n            'f': \"9.49\",\n        },\n{\n            'v': -0.42,\n            'f': \"-0.42\",\n        },\n\"Interms Financs\",\n\"IBOV\"],\n [{\n            'v': 42,\n            'f': \"42\",\n        },\n\"Financials\",\n\"BPAC11\",\n\"BTGP BANCO\",\n\"UNT EJ  N2\",\n{\n            'v': 1301655996,\n            'f': \"1301655996\",\n        },\n{\n            'v': 1.42,\n            'f': \"1.42\",\n        },\n{\n            'v': 18.16,\n            'f': \"18.16\",\n        },\n\"BPAC11.SA\",\n{\n            'v': 21.78,\n            'f': \"21.78\",\n        },\n{\n            'v': 21.46,\n            'f': \"21.46\",\n        },\n{\n            'v': -1.47,\n            'f': \"-1.47\",\n        },\n\"Interms Financs\",\n\"IBOV\"],\n [{\n            'v': 38,\n            'f': \"38\",\n        },\n\"Financials\",\n\"BPAN4\",\n\"BANCO PAN\",\n\"PN  EJ  N1\",\n{\n            'v': 341124068,\n            'f': \"341124068\",\n        },\n{\n            'v': 0.19,\n            'f': \"0.19\",\n        },\n{\n            'v': 18.16,\n            'f': \"18.16\",\n        },\n\"BPAN4.SA\",\n{\n            'v': 10.76,\n            'f': \"10.76\",\n        },\n{\n            'v': 10.85,\n            'f': \"10.85\",\n        },\n{\n            'v': 0.84,\n            'f': \"0.84\",\n        },\n\"Interms Financs\",\n\"IBOV\"],\n [{\n            'v': 55,\n            'f': \"55\",\n        },\n\"Materials\",\n\"BRAP4\",\n\"BRADESPAR\",\n\"PN  EDC N1\",\n{\n            'v': 251426773,\n            'f': \"251426773\",\n        },\n{\n            'v': 0.31,\n            'f': \"0.31\",\n        },\n{\n            'v': 13.92,\n            'f': \"13.92\",\n        },\n\"BRAP4.SA\",\n{\n            'v': 23.83,\n            'f': \"23.83\",\n        },\n{\n            'v': 24.01,\n            'f': \"24.01\",\n        },\n{\n            'v': 0.76,\n            'f': \"0.76\",\n        },\n\"Minera\\u00e7\\u00e3o\",\n\"IBOV\"],\n [{\n            'v': 7,\n            'f': \"7\",\n        },\n\"Consumer Staples\",\n\"BRFS3\",\n\"BRF SA\",\n\"ON      NM\",\n{\n            'v': 811759800,\n            'f': \"811759800\",\n        },\n{\n            'v': 0.94,\n            'f': \"0.94\",\n        },\n{\n            'v': 4.05,\n            'f': \"4.05\",\n        },\n\"BRFS3.SA\",\n{\n            'v': 22.18,\n            'f': \"22.18\",\n        },\n{\n            'v': 22.62,\n            'f': \"22.62\",\n        },\n{\n            'v': 1.98,\n            'f': \"1.98\",\n        },\n\"Alimentos Processados\",\n\"IBOV\"],\n [{\n            'v': 57,\n            'f': \"57\",\n        },\n\"Materials\",\n\"BRKM5\",\n\"BRASKEM\",\n\"PNA     N1\",\n{\n            'v': 264642296,\n            'f': \"264642296\",\n        },\n{\n            'v': 0.77,\n            'f': \"0.77\",\n        },\n{\n            'v': 0.77,\n            'f': \"0.77\",\n        },\n\"BRKM5.SA\",\n{\n            'v': 56.6,\n            'f': \"56.6\",\n        },\n{\n            'v': 57.24,\n            'f': \"57.24\",\n        },\n{\n            'v': 1.13,\n            'f': \"1.13\",\n        },\n\"Qu\\u00edmicos\",\n\"IBOV\"],\n [{\n            'v': 33,\n            'f': \"33\",\n        },\n\"Financials\",\n\"BRML3\",\n\"BR MALLS PAR\",\n\"ON      NM\",\n{\n            'v': 843728684,\n            'f': \"843728684\",\n        },\n{\n            'v': 0.33,\n            'f': \"0.33\",\n        },\n{\n            'v': 0.72,\n            'f': \"0.72\",\n        },\n\"BRML3.SA\",\n{\n            'v': 7.8,\n            'f': \"7.8\",\n        },\n{\n            'v': 7.73,\n            'f': \"7.73\",\n        },\n{\n            'v': -0.9,\n            'f': \"-0.9\",\n        },\n\"Explor Im\\u00f3veis\",\n\"IBOV\"],\n [{\n            'v': 76,\n            'f': \"76\",\n        },\n\"Information Technology\",\n\"CASH3\",\n\"MELIUZ\",\n\"ON      NM\",\n{\n            'v': 543488802,\n            'f': \"543488802\",\n        },\n{\n            'v': 0.09,\n            'f': \"0.09\",\n        },\n{\n            'v': 1.14,\n            'f': \"1.14\",\n        },\n\"CASH3.SA\",\n{\n            'v': 3.31,\n            'f': \"3.31\",\n        },\n{\n            'v': 3.1,\n            'f': \"3.1\",\n        },\n{\n            'v': -6.34,\n            'f': \"-6.34\",\n        },\n\"Programas Servs\",\n\"IBOV\"],\n [{\n            'v': 3,\n            'f': \"3\",\n        },\n\"Industrials\",\n\"CCRO3\",\n\"CCR SA\",\n\"ON      NM\",\n{\n            'v': 1115693556,\n            'f': \"1115693556\",\n        },\n{\n            'v': 0.68,\n            'f': \"0.68\",\n        },\n{\n            'v': 2.5,\n            'f': \"2.5\",\n        },\n\"CCRO3.SA\",\n{\n            'v': 12.0,\n            'f': \"12.0\",\n        },\n{\n            'v': 11.92,\n            'f': \"11.92\",\n        },\n{\n            'v': -0.67,\n            'f': \"-0.67\",\n        },\n\"Transporte\",\n\"IBOV\"],\n [{\n            'v': 50,\n            'f': \"50\",\n        },\n\"Financials\",\n\"CIEL3\",\n\"CIELO\",\n\"ON      NM\",\n{\n            'v': 1144359228,\n            'f': \"1144359228\",\n        },\n{\n            'v': 0.12,\n            'f': \"0.12\",\n        },\n{\n            'v': 3.66,\n            'f': \"3.66\",\n        },\n\"CIEL3.SA\",\n{\n            'v': 2.11,\n            'f': \"2.11\",\n        },\n{\n            'v': 2.12,\n            'f': \"2.12\",\n        },\n{\n            'v': 0.47,\n            'f': \"0.47\",\n        },\n\"Servi\\u00e7os Financeiros Diversos\",\n\"IBOV\"],\n [{\n            'v': 81,\n            'f': \"81\",\n        },\n\"Utilities\",\n\"CMIG4\",\n\"CEMIG\",\n\"PN  EJ  N1\",\n{\n            'v': 1114214662,\n            'f': \"1114214662\",\n        },\n{\n            'v': 0.74,\n            'f': \"0.74\",\n        },\n{\n            'v': 6.28,\n            'f': \"6.28\",\n        },\n\"CMIG4.SA\",\n{\n            'v': 13.16,\n            'f': \"13.16\",\n        },\n{\n            'v': 13.08,\n            'f': \"13.08\",\n        },\n{\n            'v': -0.61,\n            'f': \"-0.61\",\n        },\n\"Energ El\\u00e9trica\",\n\"IBOV\"],\n [{\n            'v': 29,\n            'f': \"29\",\n        },\n\"Consumer Staples\",\n\"COGN3\",\n\"COGNA ON\",\n\"ON      NM\",\n{\n            'v': 1847994874,\n            'f': \"1847994874\",\n        },\n{\n            'v': 0.23,\n            'f': \"0.23\",\n        },\n{\n            'v': 2.6,\n            'f': \"2.6\",\n        },\n\"COGN3.SA\",\n{\n            'v': 2.46,\n            'f': \"2.46\",\n        },\n{\n            'v': 2.41,\n            'f': \"2.41\",\n        },\n{\n            'v': -2.03,\n            'f': \"-2.03\",\n        },\n\"Diversos\",\n\"IBOV\"],\n [{\n            'v': 83,\n            'f': \"83\",\n        },\n\"Utilities\",\n\"CPFE3\",\n\"CPFL ENERGIA\",\n\"ON      NM\",\n{\n            'v': 187732538,\n            'f': \"187732538\",\n        },\n{\n            'v': 0.26,\n            'f': \"0.26\",\n        },\n{\n            'v': 6.28,\n            'f': \"6.28\",\n        },\n\"CPFE3.SA\",\n{\n            'v': 27.12,\n            'f': \"27.12\",\n        },\n{\n            'v': 26.83,\n            'f': \"26.83\",\n        },\n{\n            'v': -1.07,\n            'f': \"-1.07\",\n        },\n\"Energ El\\u00e9trica\",\n\"IBOV\"],\n [{\n            'v': 82,\n            'f': \"82\",\n        },\n\"Utilities\",\n\"CPLE6\",\n\"COPEL\",\n\"PNB     N2\",\n{\n            'v': 1563365506,\n            'f': \"1563365506\",\n        },\n{\n            'v': 0.5,\n            'f': \"0.5\",\n        },\n{\n            'v': 6.28,\n            'f': \"6.28\",\n        },\n\"CPLE6.SA\",\n{\n            'v': 6.32,\n            'f': \"6.32\",\n        },\n{\n            'v': 6.32,\n            'f': \"6.32\",\n        },\n{\n            'v': 0.0,\n            'f': \"0.0\",\n        },\n\"Energ El\\u00e9trica\",\n\"IBOV\"],\n [{\n            'v': 13,\n            'f': \"13\",\n        },\n\"Consumer Staples\",\n\"CRFB3\",\n\"CARREFOUR BR\",\n\"ON      NM\",\n{\n            'v': 410988561,\n            'f': \"410988561\",\n        },\n{\n            'v': 0.32,\n            'f': \"0.32\",\n        },\n{\n            'v': 1.07,\n            'f': \"1.07\",\n        },\n\"CRFB3.SA\",\n{\n            'v': 15.3,\n            'f': \"15.3\",\n        },\n{\n            'v': 15.39,\n            'f': \"15.39\",\n        },\n{\n            'v': 0.59,\n            'f': \"0.59\",\n        },\n\"Com\\u00e9rcio Distr.\",\n\"IBOV\"],\n [{\n            'v': 62,\n            'f': \"62\",\n        },\n\"Energy\",\n\"CSAN3\",\n\"COSAN\",\n\"ON  ED  NM\",\n{\n            'v': 1169237744,\n            'f': \"1169237744\",\n        },\n{\n            'v': 1.26,\n            'f': \"1.26\",\n        },\n{\n            'v': 16.02,\n            'f': \"16.02\",\n        },\n\"CSAN3.SA\",\n{\n            'v': 21.4,\n            'f': \"21.4\",\n        },\n{\n            'v': 21.15,\n            'f': \"21.15\",\n        },\n{\n            'v': -1.17,\n            'f': \"-1.17\",\n        },\n\"G\\u00e1s e Biocombust\\u00edveis\",\n\"IBOV\"],\n [{\n            'v': 60,\n            'f': \"60\",\n        },\n\"Materials\",\n\"CSNA3\",\n\"SID NACIONAL\",\n\"ON\",\n{\n            'v': 642398790,\n            'f': \"642398790\",\n        },\n{\n            'v': 0.81,\n            'f': \"0.81\",\n        },\n{\n            'v': 3.1,\n            'f': \"3.1\",\n        },\n\"CSNA3.SA\",\n{\n            'v': 24.76,\n            'f': \"24.76\",\n        },\n{\n            'v': 24.65,\n            'f': \"24.65\",\n        },\n{\n            'v': -0.44,\n            'f': \"-0.44\",\n        },\n\"Sid Metalurgia\",\n\"IBOV\"],\n [{\n            'v': 28,\n            'f': \"28\",\n        },\n\"Consumer Discretionary\",\n\"CVCB3\",\n\"CVC BRASIL\",\n\"ON      NM\",\n{\n            'v': 224571661,\n            'f': \"224571661\",\n        },\n{\n            'v': 0.16,\n            'f': \"0.16\",\n        },\n{\n            'v': 0.16,\n            'f': \"0.16\",\n        },\n\"CVCB3.SA\",\n{\n            'v': 14.15,\n            'f': \"14.15\",\n        },\n{\n            'v': 13.78,\n            'f': \"13.78\",\n        },\n{\n            'v': -2.61,\n            'f': \"-2.61\",\n        },\n\"Viagens e Lazer\",\n\"IBOV\"],\n [{\n            'v': 24,\n            'f': \"24\",\n        },\n\"Consumer Discretionary\",\n\"CYRE3\",\n\"CYRELA REALT\",\n\"ON      NM\",\n{\n            'v': 281609283,\n            'f': \"281609283\",\n        },\n{\n            'v': 0.22,\n            'f': \"0.22\",\n        },\n{\n            'v': 0.58,\n            'f': \"0.58\",\n        },\n\"CYRE3.SA\",\n{\n            'v': 15.14,\n            'f': \"15.14\",\n        },\n{\n            'v': 15.11,\n            'f': \"15.11\",\n        },\n{\n            'v': -0.2,\n            'f': \"-0.2\",\n        },\n\"Constr Civil\",\n\"IBOV\"],\n [{\n            'v': 52,\n            'f': \"52\",\n        },\n\"Materials\",\n\"DXCO3\",\n\"DEXCO\",\n\"ON  EX  NM\",\n{\n            'v': 299269160,\n            'f': \"299269160\",\n        },\n{\n            'v': 0.23,\n            'f': \"0.23\",\n        },\n{\n            'v': 3.53,\n            'f': \"3.53\",\n        },\n\"DXCO3.SA\",\n{\n            'v': 18.87,\n            'f': \"18.87\",\n        },\n{\n            'v': 18.87,\n            'f': \"18.87\",\n        },\n{\n            'v': 0.0,\n            'f': \"0.0\",\n        },\n\"Madeira e Papel\",\n\"IBOV\"],\n [{\n            'v': 4,\n            'f': \"4\",\n        },\n\"Industrials\",\n\"ECOR3\",\n\"ECORODOVIAS\",\n\"ON      NM\",\n{\n            'v': 339237914,\n            'f': \"339237914\",\n        },\n{\n            'v': 0.13,\n            'f': \"0.13\",\n        },\n{\n            'v': 2.5,\n            'f': \"2.5\",\n        },\n\"ECOR3.SA\",\n{\n            'v': 7.44,\n            'f': \"7.44\",\n        },\n{\n            'v': 7.34,\n            'f': \"7.34\",\n        },\n{\n            'v': -1.34,\n            'f': \"-1.34\",\n        },\n\"Transporte\",\n\"IBOV\"],\n [{\n            'v': 89,\n            'f': \"89\",\n        },\n\"Utilities\",\n\"EGIE3\",\n\"ENGIE BRASIL\",\n\"ON      NM\",\n{\n            'v': 255217329,\n            'f': \"255217329\",\n        },\n{\n            'v': 0.5,\n            'f': \"0.5\",\n        },\n{\n            'v': 6.28,\n            'f': \"6.28\",\n        },\n\"EGIE3.SA\",\n{\n            'v': 38.67,\n            'f': \"38.67\",\n        },\n{\n            'v': 38.6,\n            'f': \"38.6\",\n        },\n{\n            'v': -0.18,\n            'f': \"-0.18\",\n        },\n\"Energ El\\u00e9trica\",\n\"IBOV\"],\n [{\n            'v': 84,\n            'f': \"84\",\n        },\n\"Utilities\",\n\"ELET3\",\n\"ELETROBRAS\",\n\"ON      N1\",\n{\n            'v': 358028908,\n            'f': \"358028908\",\n        },\n{\n            'v': 0.61,\n            'f': \"0.61\",\n        },\n{\n            'v': 6.28,\n            'f': \"6.28\",\n        },\n\"ELET3.SA\",\n{\n            'v': 33.68,\n            'f': \"33.68\",\n        },\n{\n            'v': 33.25,\n            'f': \"33.25\",\n        },\n{\n            'v': -1.28,\n            'f': \"-1.28\",\n        },\n\"Energ El\\u00e9trica\",\n\"IBOV\"],\n [{\n            'v': 85,\n            'f': \"85\",\n        },\n\"Utilities\",\n\"ELET6\",\n\"ELETROBRAS\",\n\"PNB     N1\",\n{\n            'v': 242987127,\n            'f': \"242987127\",\n        },\n{\n            'v': 0.4,\n            'f': \"0.4\",\n        },\n{\n            'v': 6.28,\n            'f': \"6.28\",\n        },\n\"ELET6.SA\",\n{\n            'v': 33.04,\n            'f': \"33.04\",\n        },\n{\n            'v': 32.66,\n            'f': \"32.66\",\n        },\n{\n            'v': -1.15,\n            'f': \"-1.15\",\n        },\n\"Energ El\\u00e9trica\",\n\"IBOV\"],\n [{\n            'v': 1,\n            'f': \"1\",\n        },\n\"Industrials\",\n\"EMBR3\",\n\"EMBRAER\",\n\"ON      NM\",\n{\n            'v': 734558205,\n            'f': \"734558205\",\n        },\n{\n            'v': 0.91,\n            'f': \"0.91\",\n        },\n{\n            'v': 0.91,\n            'f': \"0.91\",\n        },\n\"EMBR3.SA\",\n{\n            'v': 23.6,\n            'f': \"23.6\",\n        },\n{\n            'v': 24.35,\n            'f': \"24.35\",\n        },\n{\n            'v': 3.18,\n            'f': \"3.18\",\n        },\n\"Mat Transporte\",\n\"IBOV\"],\n [{\n            'v': 86,\n            'f': \"86\",\n        },\n\"Utilities\",\n\"ENBR3\",\n\"ENERGIAS BR\",\n\"ON      NM\",\n{\n            'v': 231489471,\n            'f': \"231489471\",\n        },\n{\n            'v': 0.24,\n            'f': \"0.24\",\n        },\n{\n            'v': 6.28,\n            'f': \"6.28\",\n        },\n\"ENBR3.SA\",\n{\n            'v': 20.7,\n            'f': \"20.7\",\n        },\n{\n            'v': 20.78,\n            'f': \"20.78\",\n        },\n{\n            'v': 0.39,\n            'f': \"0.39\",\n        },\n\"Energ El\\u00e9trica\",\n\"IBOV\"],\n [{\n            'v': 88,\n            'f': \"88\",\n        },\n\"Utilities\",\n\"ENEV3\",\n\"ENEVA\",\n\"ON      NM\",\n{\n            'v': 1261568398,\n            'f': \"1261568398\",\n        },\n{\n            'v': 0.9,\n            'f': \"0.9\",\n        },\n{\n            'v': 6.28,\n            'f': \"6.28\",\n        },\n\"ENEV3.SA\",\n{\n            'v': 14.38,\n            'f': \"14.38\",\n        },\n{\n            'v': 14.05,\n            'f': \"14.05\",\n        },\n{\n            'v': -2.29,\n            'f': \"-2.29\",\n        },\n\"Energ El\\u00e9trica\",\n\"IBOV\"],\n [{\n            'v': 87,\n            'f': \"87\",\n        },\n\"Utilities\",\n\"ENGI11\",\n\"ENERGISA\",\n\"UNT     N2\",\n{\n            'v': 248542219,\n            'f': \"248542219\",\n        },\n{\n            'v': 0.56,\n            'f': \"0.56\",\n        },\n{\n            'v': 6.28,\n            'f': \"6.28\",\n        },\n\"ENGI11.SA\",\n{\n            'v': 44.39,\n            'f': \"44.39\",\n        },\n{\n            'v': 44.14,\n            'f': \"44.14\",\n        },\n{\n            'v': -0.56,\n            'f': \"-0.56\",\n        },\n\"Energ El\\u00e9trica\",\n\"IBOV\"],\n [{\n            'v': 90,\n            'f': \"90\",\n        },\n\"Utilities\",\n\"EQTL3\",\n\"EQUATORIAL\",\n\"ON      NM\",\n{\n            'v': 1010511085,\n            'f': \"1010511085\",\n        },\n{\n            'v': 1.16,\n            'f': \"1.16\",\n        },\n{\n            'v': 6.28,\n            'f': \"6.28\",\n        },\n\"EQTL3.SA\",\n{\n            'v': 22.87,\n            'f': \"22.87\",\n        },\n{\n            'v': 22.65,\n            'f': \"22.65\",\n        },\n{\n            'v': -0.96,\n            'f': \"-0.96\",\n        },\n\"Energ El\\u00e9trica\",\n\"IBOV\"],\n [{\n            'v': 25,\n            'f': \"25\",\n        },\n\"Consumer Discretionary\",\n\"EZTC3\",\n\"EZTEC\",\n\"ON      NM\",\n{\n            'v': 101618236,\n            'f': \"101618236\",\n        },\n{\n            'v': 0.1,\n            'f': \"0.1\",\n        },\n{\n            'v': 0.58,\n            'f': \"0.58\",\n        },\n\"EZTC3.SA\",\n{\n            'v': 20.11,\n            'f': \"20.11\",\n        },\n{\n            'v': 20.03,\n            'f': \"20.03\",\n        },\n{\n            'v': -0.4,\n            'f': \"-0.4\",\n        },\n\"Constr Civil\",\n\"IBOV\"],\n [{\n            'v': 70,\n            'f': \"70\",\n        },\n\"Health Care\",\n\"FLRY3\",\n\"FLEURY\",\n\"ON  EJ  NM\",\n{\n            'v': 303005900,\n            'f': \"303005900\",\n        },\n{\n            'v': 0.27,\n            'f': \"0.27\",\n        },\n{\n            'v': 3.75,\n            'f': \"3.75\",\n        },\n\"FLRY3.SA\",\n{\n            'v': 17.44,\n            'f': \"17.44\",\n        },\n{\n            'v': 17.39,\n            'f': \"17.39\",\n        },\n{\n            'v': -0.29,\n            'f': \"-0.29\",\n        },\n\"SM Hosp An.Diag\",\n\"IBOV\"],\n [{\n            'v': 51,\n            'f': \"51\",\n        },\n\"Financials\",\n\"GETT11\",\n\"GETNET BR\",\n\"UNT\",\n{\n            'v': 90675849,\n            'f': \"90675849\",\n        },\n{\n            'v': 0.02,\n            'f': \"0.02\",\n        },\n{\n            'v': 3.66,\n            'f': \"3.66\",\n        },\n\"GETT11.SA\",\n{\n            'v': 4.08,\n            'f': \"4.08\",\n        },\n{\n            'v': 3.86,\n            'f': \"3.86\",\n        },\n{\n            'v': -5.39,\n            'f': \"-5.39\",\n        },\n\"Servi\\u00e7os Financeiros Diversos\",\n\"IBOV\"],\n [{\n            'v': 58,\n            'f': \"58\",\n        },\n\"Materials\",\n\"GGBR4\",\n\"GERDAU\",\n\"PN      N1\",\n{\n            'v': 1097534498,\n            'f': \"1097534498\",\n        },\n{\n            'v': 1.5,\n            'f': \"1.5\",\n        },\n{\n            'v': 3.1,\n            'f': \"3.1\",\n        },\n\"GGBR4.SA\",\n{\n            'v': 27.48,\n            'f': \"27.48\",\n        },\n{\n            'v': 26.95,\n            'f': \"26.95\",\n        },\n{\n            'v': -1.93,\n            'f': \"-1.93\",\n        },\n\"Sid Metalurgia\",\n\"IBOV\"],\n [{\n            'v': 72,\n            'f': \"72\",\n        },\n\"Health Care\",\n\"GNDI3\",\n\"INTERMEDICA\",\n\"ON      NM\",\n{\n            'v': 592114608,\n            'f': \"592114608\",\n        },\n{\n            'v': 1.85,\n            'f': \"1.85\",\n        },\n{\n            'v': 3.75,\n            'f': \"3.75\",\n        },\n\"GNDI3.SA\",\n{\n            'v': 63.51,\n            'f': \"63.51\",\n        },\n{\n            'v': 61.45,\n            'f': \"61.45\",\n        },\n{\n            'v': -3.24,\n            'f': \"-3.24\",\n        },\n\"SM Hosp An.Diag\",\n\"IBOV\"],\n [{\n            'v': 59,\n            'f': \"59\",\n        },\n\"Materials\",\n\"GOAU4\",\n\"GERDAU MET\",\n\"PN      N1\",\n{\n            'v': 698275321,\n            'f': \"698275321\",\n        },\n{\n            'v': 0.4,\n            'f': \"0.4\",\n        },\n{\n            'v': 3.1,\n            'f': \"3.1\",\n        },\n\"GOAU4.SA\",\n{\n            'v': 11.35,\n            'f': \"11.35\",\n        },\n{\n            'v': 11.24,\n            'f': \"11.24\",\n        },\n{\n            'v': -0.97,\n            'f': \"-0.97\",\n        },\n\"Sid Metalurgia\",\n\"IBOV\"],\n [{\n            'v': 5,\n            'f': \"5\",\n        },\n\"Industrials\",\n\"GOLL4\",\n\"GOL\",\n\"PN      N2\",\n{\n            'v': 167095214,\n            'f': \"167095214\",\n        },\n{\n            'v': 0.16,\n            'f': \"0.16\",\n        },\n{\n            'v': 2.5,\n            'f': \"2.5\",\n        },\n\"GOLL4.SA\",\n{\n            'v': 18.67,\n            'f': \"18.67\",\n        },\n{\n            'v': 18.43,\n            'f': \"18.43\",\n        },\n{\n            'v': -1.29,\n            'f': \"-1.29\",\n        },\n\"Transporte\",\n\"IBOV\"],\n [{\n            'v': 71,\n            'f': \"71\",\n        },\n\"Health Care\",\n\"HAPV3\",\n\"HAPVIDA\",\n\"ON      NM\",\n{\n            'v': 1306939210,\n            'f': \"1306939210\",\n        },\n{\n            'v': 0.7,\n            'f': \"0.7\",\n        },\n{\n            'v': 3.75,\n            'f': \"3.75\",\n        },\n\"HAPV3.SA\",\n{\n            'v': 11.05,\n            'f': \"11.05\",\n        },\n{\n            'v': 10.59,\n            'f': \"10.59\",\n        },\n{\n            'v': -4.16,\n            'f': \"-4.16\",\n        },\n\"SM Hosp An.Diag\",\n\"IBOV\"],\n [{\n            'v': 68,\n            'f': \"68\",\n        },\n\"Health Care\",\n\"HYPE3\",\n\"HYPERA\",\n\"ON      NM\",\n{\n            'v': 411803359,\n            'f': \"411803359\",\n        },\n{\n            'v': 0.6,\n            'f': \"0.6\",\n        },\n{\n            'v': 1.91,\n            'f': \"1.91\",\n        },\n\"HYPE3.SA\",\n{\n            'v': 28.42,\n            'f': \"28.42\",\n        },\n{\n            'v': 28.38,\n            'f': \"28.38\",\n        },\n{\n            'v': -0.14,\n            'f': \"-0.14\",\n        },\n\"Com\\u00e9rcio Distr.\",\n\"IBOV\"],\n [{\n            'v': 34,\n            'f': \"34\",\n        },\n\"Financials\",\n\"IGTI11\",\n\"IGUATEMI S.A\",\n\"UNT EB  N1\",\n{\n            'v': 136888540,\n            'f': \"136888540\",\n        },\n{\n            'v': 0.13,\n            'f': \"0.13\",\n        },\n{\n            'v': 0.72,\n            'f': \"0.72\",\n        },\n\"IGTI11.SA\",\n{\n            'v': 181.03,\n            'f': \"181.03\",\n        },\n{\n            'v': 18.2,\n            'f': \"18.2\",\n        },\n{\n            'v': -89.95,\n            'f': \"-89.95\",\n        },\n\"Explor Im\\u00f3veis\",\n\"IBOV\"],\n [{\n            'v': 47,\n            'f': \"47\",\n        },\n\"Financials\",\n\"IRBR3\",\n\"IRBBRASIL RE\",\n\"ON      NM\",\n{\n            'v': 1255286531,\n            'f': \"1255286531\",\n        },\n{\n            'v': 0.25,\n            'f': \"0.25\",\n        },\n{\n            'v': 1.32,\n            'f': \"1.32\",\n        },\n\"IRBR3.SA\",\n{\n            'v': 4.02,\n            'f': \"4.02\",\n        },\n{\n            'v': 3.91,\n            'f': \"3.91\",\n        },\n{\n            'v': -2.74,\n            'f': \"-2.74\",\n        },\n\"Previd  Seguros\",\n\"IBOV\"],\n [{\n            'v': 43,\n            'f': \"43\",\n        },\n\"Financials\",\n\"ITSA4\",\n\"ITAUSA\",\n\"PN  EB  N1\",\n{\n            'v': 4741337133,\n            'f': \"4741337133\",\n        },\n{\n            'v': 2.17,\n            'f': \"2.17\",\n        },\n{\n            'v': 18.16,\n            'f': \"18.16\",\n        },\n\"ITSA4.SA\",\n{\n            'v': 8.97,\n            'f': \"8.97\",\n        },\n{\n            'v': 8.99,\n            'f': \"8.99\",\n        },\n{\n            'v': 0.22,\n            'f': \"0.22\",\n        },\n\"Interms Financs\",\n\"IBOV\"],\n [{\n            'v': 44,\n            'f': \"44\",\n        },\n\"Financials\",\n\"ITUB4\",\n\"ITAUUNIBANCO\",\n\"PN      N1\",\n{\n            'v': 4780002924,\n            'f': \"4780002924\",\n        },\n{\n            'v': 5.19,\n            'f': \"5.19\",\n        },\n{\n            'v': 18.16,\n            'f': \"18.16\",\n        },\n\"ITUB4.SA\",\n{\n            'v': 21.23,\n            'f': \"21.23\",\n        },\n{\n            'v': 21.34,\n            'f': \"21.34\",\n        },\n{\n            'v': 0.52,\n            'f': \"0.52\",\n        },\n\"Interms Financs\",\n\"IBOV\"],\n [{\n            'v': 8,\n            'f': \"8\",\n        },\n\"Consumer Staples\",\n\"JBSS3\",\n\"JBS\",\n\"ON      NM\",\n{\n            'v': 1346828080,\n            'f': \"1346828080\",\n        },\n{\n            'v': 2.58,\n            'f': \"2.58\",\n        },\n{\n            'v': 4.05,\n            'f': \"4.05\",\n        },\n\"JBSS3.SA\",\n{\n            'v': 37.26,\n            'f': \"37.26\",\n        },\n{\n            'v': 37.72,\n            'f': \"37.72\",\n        },\n{\n            'v': 1.23,\n            'f': \"1.23\",\n        },\n\"Alimentos Processados\",\n\"IBOV\"],\n [{\n            'v': 26,\n            'f': \"26\",\n        },\n\"Consumer Discretionary\",\n\"JHSF3\",\n\"JHSF PART\",\n\"ON      NM\",\n{\n            'v': 305915142,\n            'f': \"305915142\",\n        },\n{\n            'v': 0.08,\n            'f': \"0.08\",\n        },\n{\n            'v': 0.58,\n            'f': \"0.58\",\n        },\n\"JHSF3.SA\",\n{\n            'v': 5.39,\n            'f': \"5.39\",\n        },\n{\n            'v': 5.41,\n            'f': \"5.41\",\n        },\n{\n            'v': 0.37,\n            'f': \"0.37\",\n        },\n\"Constr Civil\",\n\"IBOV\"],\n [{\n            'v': 53,\n            'f': \"53\",\n        },\n\"Materials\",\n\"KLBN11\",\n\"KLABIN S/A\",\n\"UNT     N2\",\n{\n            'v': 812994397,\n            'f': \"812994397\",\n        },\n{\n            'v': 1.08,\n            'f': \"1.08\",\n        },\n{\n            'v': 3.53,\n            'f': \"3.53\",\n        },\n\"KLBN11.SA\",\n{\n            'v': 26.06,\n            'f': \"26.06\",\n        },\n{\n            'v': 25.84,\n            'f': \"25.84\",\n        },\n{\n            'v': -0.84,\n            'f': \"-0.84\",\n        },\n\"Madeira e Papel\",\n\"IBOV\"],\n [{\n            'v': 18,\n            'f': \"18\",\n        },\n\"Consumer Discretionary\",\n\"LAME4\",\n\"LOJAS AMERIC\",\n\"PN      N1\",\n{\n            'v': 853524256,\n            'f': \"853524256\",\n        },\n{\n            'v': 0.25,\n            'f': \"0.25\",\n        },\n{\n            'v': 4.1,\n            'f': \"4.1\",\n        },\n\"LAME4.SA\",\n{\n            'v': 5.77,\n            'f': \"5.77\",\n        },\n{\n            'v': 5.81,\n            'f': \"5.81\",\n        },\n{\n            'v': 0.69,\n            'f': \"0.69\",\n        },\n\"Com\\u00e9rcio\",\n\"IBOV\"],\n [{\n            'v': 31,\n            'f': \"31\",\n        },\n\"Consumer Staples\",\n\"LCAM3\",\n\"LOCAMERICA\",\n\"ON      NM\",\n{\n            'v': 324522975,\n            'f': \"324522975\",\n        },\n{\n            'v': 0.4,\n            'f': \"0.4\",\n        },\n{\n            'v': 2.6,\n            'f': \"2.6\",\n        },\n\"LCAM3.SA\",\n{\n            'v': 24.82,\n            'f': \"24.82\",\n        },\n{\n            'v': 24.4,\n            'f': \"24.4\",\n        },\n{\n            'v': -1.69,\n            'f': \"-1.69\",\n        },\n\"Diversos\",\n\"IBOV\"],\n [{\n            'v': 19,\n            'f': \"19\",\n        },\n\"Consumer Discretionary\",\n\"LREN3\",\n\"LOJAS RENNER\",\n\"ON  EJ  NM\",\n{\n            'v': 978697849,\n            'f': \"978697849\",\n        },\n{\n            'v': 1.2,\n            'f': \"1.2\",\n        },\n{\n            'v': 4.1,\n            'f': \"4.1\",\n        },\n\"LREN3.SA\",\n{\n            'v': 24.6,\n            'f': \"24.6\",\n        },\n{\n            'v': 24.17,\n            'f': \"24.17\",\n        },\n{\n            'v': -1.75,\n            'f': \"-1.75\",\n        },\n\"Com\\u00e9rcio\",\n\"IBOV\"],\n [{\n            'v': 75,\n            'f': \"75\",\n        },\n\"Information Technology\",\n\"LWSA3\",\n\"LOCAWEB\",\n\"ON      NM\",\n{\n            'v': 431783548,\n            'f': \"431783548\",\n        },\n{\n            'v': 0.3,\n            'f': \"0.3\",\n        },\n{\n            'v': 1.14,\n            'f': \"1.14\",\n        },\n\"LWSA3.SA\",\n{\n            'v': 13.5,\n            'f': \"13.5\",\n        },\n{\n            'v': 13.48,\n            'f': \"13.48\",\n        },\n{\n            'v': -0.15,\n            'f': \"-0.15\",\n        },\n\"Programas Servs\",\n\"IBOV\"],\n [{\n            'v': 20,\n            'f': \"20\",\n        },\n\"Consumer Discretionary\",\n\"MGLU3\",\n\"MAGAZ LUIZA\",\n\"ON      NM\",\n{\n            'v': 2820185158,\n            'f': \"2820185158\",\n        },\n{\n            'v': 0.89,\n            'f': \"0.89\",\n        },\n{\n            'v': 4.1,\n            'f': \"4.1\",\n        },\n\"MGLU3.SA\",\n{\n            'v': 6.16,\n            'f': \"6.16\",\n        },\n{\n            'v': 6.2,\n            'f': \"6.2\",\n        },\n{\n            'v': 0.65,\n            'f': \"0.65\",\n        },\n\"Com\\u00e9rcio\",\n\"IBOV\"],\n [{\n            'v': 9,\n            'f': \"9\",\n        },\n\"Consumer Staples\",\n\"MRFG3\",\n\"MARFRIG\",\n\"ON  ED  NM\",\n{\n            'v': 348234011,\n            'f': \"348234011\",\n        },\n{\n            'v': 0.4,\n            'f': \"0.4\",\n        },\n{\n            'v': 4.05,\n            'f': \"4.05\",\n        },\n\"MRFG3.SA\",\n{\n            'v': 21.82,\n            'f': \"21.82\",\n        },\n{\n            'v': 22.73,\n            'f': \"22.73\",\n        },\n{\n            'v': 4.17,\n            'f': \"4.17\",\n        },\n\"Alimentos Processados\",\n\"IBOV\"],\n [{\n            'v': 27,\n            'f': \"27\",\n        },\n\"Consumer Discretionary\",\n\"MRVE3\",\n\"MRV\",\n\"ON      NM\",\n{\n            'v': 294643879,\n            'f': \"294643879\",\n        },\n{\n            'v': 0.17,\n            'f': \"0.17\",\n        },\n{\n            'v': 0.58,\n            'f': \"0.58\",\n        },\n\"MRVE3.SA\",\n{\n            'v': 11.4,\n            'f': \"11.4\",\n        },\n{\n            'v': 11.38,\n            'f': \"11.38\",\n        },\n{\n            'v': -0.18,\n            'f': \"-0.18\",\n        },\n\"Constr Civil\",\n\"IBOV\"],\n [{\n            'v': 35,\n            'f': \"35\",\n        },\n\"Financials\",\n\"MULT3\",\n\"MULTIPLAN\",\n\"ON      N2\",\n{\n            'v': 273506645,\n            'f': \"273506645\",\n        },\n{\n            'v': 0.26,\n            'f': \"0.26\",\n        },\n{\n            'v': 0.72,\n            'f': \"0.72\",\n        },\n\"MULT3.SA\",\n{\n            'v': 18.89,\n            'f': \"18.89\",\n        },\n{\n            'v': 18.81,\n            'f': \"18.81\",\n        },\n{\n            'v': -0.42,\n            'f': \"-0.42\",\n        },\n\"Explor Im\\u00f3veis\",\n\"IBOV\"],\n [{\n            'v': 15,\n            'f': \"15\",\n        },\n\"Consumer Staples\",\n\"NTCO3\",\n\"GRUPO NATURA\",\n\"ON      NM\",\n{\n            'v': 843870809,\n            'f': \"843870809\",\n        },\n{\n            'v': 1.1,\n            'f': \"1.1\",\n        },\n{\n            'v': 1.1,\n            'f': \"1.1\",\n        },\n\"NTCO3.SA\",\n{\n            'v': 25.77,\n            'f': \"25.77\",\n        },\n{\n            'v': 25.68,\n            'f': \"25.68\",\n        },\n{\n            'v': -0.35,\n            'f': \"-0.35\",\n        },\n\"Pr Pessoal Limp\",\n\"IBOV\"],\n [{\n            'v': 14,\n            'f': \"14\",\n        },\n\"Consumer Staples\",\n\"PCAR3\",\n\"P.ACUCAR-CBD\",\n\"ON      NM\",\n{\n            'v': 156946474,\n            'f': \"156946474\",\n        },\n{\n            'v': 0.18,\n            'f': \"0.18\",\n        },\n{\n            'v': 1.07,\n            'f': \"1.07\",\n        },\n\"PCAR3.SA\",\n{\n            'v': 22.14,\n            'f': \"22.14\",\n        },\n{\n            'v': 22.19,\n            'f': \"22.19\",\n        },\n{\n            'v': 0.23,\n            'f': \"0.23\",\n        },\n\"Com\\u00e9rcio Distr.\",\n\"IBOV\"],\n [{\n            'v': 63,\n            'f': \"63\",\n        },\n\"Energy\",\n\"PETR3\",\n\"PETROBRAS\",\n\"ON      N2\",\n{\n            'v': 3426385188,\n            'f': \"3426385188\",\n        },\n{\n            'v': 5.31,\n            'f': \"5.31\",\n        },\n{\n            'v': 16.02,\n            'f': \"16.02\",\n        },\n\"PETR3.SA\",\n{\n            'v': 30.22,\n            'f': \"30.22\",\n        },\n{\n            'v': 30.44,\n            'f': \"30.44\",\n        },\n{\n            'v': 0.73,\n            'f': \"0.73\",\n        },\n\"G\\u00e1s e Biocombust\\u00edveis\",\n\"IBOV\"],\n [{\n            'v': 64,\n            'f': \"64\",\n        },\n\"Energy\",\n\"PETR4\",\n\"PETROBRAS\",\n\"PN      N2\",\n{\n            'v': 4566511125,\n            'f': \"4566511125\",\n        },\n{\n            'v': 6.58,\n            'f': \"6.58\",\n        },\n{\n            'v': 16.02,\n            'f': \"16.02\",\n        },\n\"PETR4.SA\",\n{\n            'v': 28.16,\n            'f': \"28.16\",\n        },\n{\n            'v': 28.33,\n            'f': \"28.33\",\n        },\n{\n            'v': 0.6,\n            'f': \"0.6\",\n        },\n\"G\\u00e1s e Biocombust\\u00edveis\",\n\"IBOV\"],\n [{\n            'v': 21,\n            'f': \"21\",\n        },\n\"Consumer Discretionary\",\n\"PETZ3\",\n\"PETZ\",\n\"ON  EJ  NM\",\n{\n            'v': 299407844,\n            'f': \"299407844\",\n        },\n{\n            'v': 0.26,\n            'f': \"0.26\",\n        },\n{\n            'v': 4.1,\n            'f': \"4.1\",\n        },\n\"PETZ3.SA\",\n{\n            'v': 17.33,\n            'f': \"17.33\",\n        },\n{\n            'v': 16.83,\n            'f': \"16.83\",\n        },\n{\n            'v': -2.89,\n            'f': \"-2.89\",\n        },\n\"Com\\u00e9rcio\",\n\"IBOV\"],\n [{\n            'v': 65,\n            'f': \"65\",\n        },\n\"Energy\",\n\"PRIO3\",\n\"PETRORIO\",\n\"ON      NM\",\n{\n            'v': 839159130,\n            'f': \"839159130\",\n        },\n{\n            'v': 0.84,\n            'f': \"0.84\",\n        },\n{\n            'v': 16.02,\n            'f': \"16.02\",\n        },\n\"PRIO3.SA\",\n{\n            'v': 19.87,\n            'f': \"19.87\",\n        },\n{\n            'v': 19.7,\n            'f': \"19.7\",\n        },\n{\n            'v': -0.86,\n            'f': \"-0.86\",\n        },\n\"G\\u00e1s e Biocombust\\u00edveis\",\n\"IBOV\"],\n [{\n            'v': 73,\n            'f': \"73\",\n        },\n\"Health Care\",\n\"QUAL3\",\n\"QUALICORP\",\n\"ON      NM\",\n{\n            'v': 283670037,\n            'f': \"283670037\",\n        },\n{\n            'v': 0.23,\n            'f': \"0.23\",\n        },\n{\n            'v': 3.75,\n            'f': \"3.75\",\n        },\n\"QUAL3.SA\",\n{\n            'v': 16.22,\n            'f': \"16.22\",\n        },\n{\n            'v': 15.87,\n            'f': \"15.87\",\n        },\n{\n            'v': -2.16,\n            'f': \"-2.16\",\n        },\n\"SM Hosp An.Diag\",\n\"IBOV\"],\n [{\n            'v': 69,\n            'f': \"69\",\n        },\n\"Health Care\",\n\"RADL3\",\n\"RAIADROGASIL\",\n\"ON      NM\",\n{\n            'v': 1071076905,\n            'f': \"1071076905\",\n        },\n{\n            'v': 1.31,\n            'f': \"1.31\",\n        },\n{\n            'v': 1.91,\n            'f': \"1.91\",\n        },\n\"RADL3.SA\",\n{\n            'v': 24.08,\n            'f': \"24.08\",\n        },\n{\n            'v': 24.1,\n            'f': \"24.1\",\n        },\n{\n            'v': 0.08,\n            'f': \"0.08\",\n        },\n\"Com\\u00e9rcio Distr.\",\n\"IBOV\"],\n [{\n            'v': 6,\n            'f': \"6\",\n        },\n\"Industrials\",\n\"RAIL3\",\n\"RUMO S.A.\",\n\"ON      NM\",\n{\n            'v': 1216056103,\n            'f': \"1216056103\",\n        },\n{\n            'v': 1.09,\n            'f': \"1.09\",\n        },\n{\n            'v': 2.5,\n            'f': \"2.5\",\n        },\n\"RAIL3.SA\",\n{\n            'v': 18.0,\n            'f': \"18.0\",\n        },\n{\n            'v': 17.67,\n            'f': \"17.67\",\n        },\n{\n            'v': -1.83,\n            'f': \"-1.83\",\n        },\n\"Transporte\",\n\"IBOV\"],\n [{\n            'v': 74,\n            'f': \"74\",\n        },\n\"Health Care\",\n\"RDOR3\",\n\"REDE D OR\",\n\"ON  EJ  NM\",\n{\n            'v': 320214380,\n            'f': \"320214380\",\n        },\n{\n            'v': 0.7,\n            'f': \"0.7\",\n        },\n{\n            'v': 3.75,\n            'f': \"3.75\",\n        },\n\"RDOR3.SA\",\n{\n            'v': 42.75,\n            'f': \"42.75\",\n        },\n{\n            'v': 42.66,\n            'f': \"42.66\",\n        },\n{\n            'v': -0.21,\n            'f': \"-0.21\",\n        },\n\"SM Hosp An.Diag\",\n\"IBOV\"],\n [{\n            'v': 30,\n            'f': \"30\",\n        },\n\"Consumer Staples\",\n\"RENT3\",\n\"LOCALIZA\",\n\"ON  EJ  NM\",\n{\n            'v': 593944309,\n            'f': \"593944309\",\n        },\n{\n            'v': 1.66,\n            'f': \"1.66\",\n        },\n{\n            'v': 2.6,\n            'f': \"2.6\",\n        },\n\"RENT3.SA\",\n{\n            'v': 55.64,\n            'f': \"55.64\",\n        },\n{\n            'v': 54.75,\n            'f': \"54.75\",\n        },\n{\n            'v': -1.6,\n            'f': \"-1.6\",\n        },\n\"Diversos\",\n\"IBOV\"],\n [{\n            'v': 45,\n            'f': \"45\",\n        },\n\"Financials\",\n\"SANB11\",\n\"SANTANDER BR\",\n\"UNT\",\n{\n            'v': 362703399,\n            'f': \"362703399\",\n        },\n{\n            'v': 0.56,\n            'f': \"0.56\",\n        },\n{\n            'v': 18.16,\n            'f': \"18.16\",\n        },\n\"SANB11.SA\",\n{\n            'v': 30.31,\n            'f': \"30.31\",\n        },\n{\n            'v': 30.47,\n            'f': \"30.47\",\n        },\n{\n            'v': 0.53,\n            'f': \"0.53\",\n        },\n\"Interms Financs\",\n\"IBOV\"],\n [{\n            'v': 80,\n            'f': \"80\",\n        },\n\"Utilities\",\n\"SBSP3\",\n\"SABESP\",\n\"ON      NM\",\n{\n            'v': 340001934,\n            'f': \"340001934\",\n        },\n{\n            'v': 0.69,\n            'f': \"0.69\",\n        },\n{\n            'v': 0.69,\n            'f': \"0.69\",\n        },\n\"SBSP3.SA\",\n{\n            'v': 40.15,\n            'f': \"40.15\",\n        },\n{\n            'v': 39.89,\n            'f': \"39.89\",\n        },\n{\n            'v': -0.65,\n            'f': \"-0.65\",\n        },\n\"\\u00c1gua Saneamento\",\n\"IBOV\"],\n [{\n            'v': 17,\n            'f': \"17\",\n        },\n\"Consumer Discretionary\",\n\"SOMA3\",\n\"GRUPO SOMA\",\n\"ON      NM\",\n{\n            'v': 421176954,\n            'f': \"421176954\",\n        },\n{\n            'v': 0.28,\n            'f': \"0.28\",\n        },\n{\n            'v': 4.1,\n            'f': \"4.1\",\n        },\n\"SOMA3.SA\",\n{\n            'v': 13.05,\n            'f': \"13.05\",\n        },\n{\n            'v': 12.85,\n            'f': \"12.85\",\n        },\n{\n            'v': -1.53,\n            'f': \"-1.53\",\n        },\n\"Com\\u00e9rcio\",\n\"IBOV\"],\n [{\n            'v': 48,\n            'f': \"48\",\n        },\n\"Financials\",\n\"SULA11\",\n\"SUL AMERICA\",\n\"UNT     N2\",\n{\n            'v': 284771028,\n            'f': \"284771028\",\n        },\n{\n            'v': 0.37,\n            'f': \"0.37\",\n        },\n{\n            'v': 1.32,\n            'f': \"1.32\",\n        },\n\"SULA11.SA\",\n{\n            'v': 25.8,\n            'f': \"25.8\",\n        },\n{\n            'v': 25.4,\n            'f': \"25.4\",\n        },\n{\n            'v': -1.55,\n            'f': \"-1.55\",\n        },\n\"Previd  Seguros\",\n\"IBOV\"],\n [{\n            'v': 54,\n            'f': \"54\",\n        },\n\"Materials\",\n\"SUZB3\",\n\"SUZANO S.A.\",\n\"ON      NM\",\n{\n            'v': 726779281,\n            'f': \"726779281\",\n        },\n{\n            'v': 2.23,\n            'f': \"2.23\",\n        },\n{\n            'v': 3.53,\n            'f': \"3.53\",\n        },\n\"SUZB3.SA\",\n{\n            'v': 59.63,\n            'f': \"59.63\",\n        },\n{\n            'v': 60.19,\n            'f': \"60.19\",\n        },\n{\n            'v': 0.94,\n            'f': \"0.94\",\n        },\n\"Madeira e Papel\",\n\"IBOV\"],\n [{\n            'v': 91,\n            'f': \"91\",\n        },\n\"Utilities\",\n\"TAEE11\",\n\"TAESA\",\n\"UNT     N2\",\n{\n            'v': 218568234,\n            'f': \"218568234\",\n        },\n{\n            'v': 0.4,\n            'f': \"0.4\",\n        },\n{\n            'v': 6.28,\n            'f': \"6.28\",\n        },\n\"TAEE11.SA\",\n{\n            'v': 36.28,\n            'f': \"36.28\",\n        },\n{\n            'v': 36.18,\n            'f': \"36.18\",\n        },\n{\n            'v': -0.28,\n            'f': \"-0.28\",\n        },\n\"Energ El\\u00e9trica\",\n\"IBOV\"],\n [{\n            'v': 79,\n            'f': \"79\",\n        },\n\"Communication Services\",\n\"TIMS3\",\n\"TIM\",\n\"ON  EJ  NM\",\n{\n            'v': 808619532,\n            'f': \"808619532\",\n        },\n{\n            'v': 0.53,\n            'f': \"0.53\",\n        },\n{\n            'v': 1.66,\n            'f': \"1.66\",\n        },\n\"TIMS3.SA\",\n{\n            'v': 12.88,\n            'f': \"12.88\",\n        },\n{\n            'v': 12.87,\n            'f': \"12.87\",\n        },\n{\n            'v': -0.08,\n            'f': \"-0.08\",\n        },\n\"Telecomunica\\u00e7\\u00e3o\",\n\"IBOV\"],\n [{\n            'v': 77,\n            'f': \"77\",\n        },\n\"Information Technology\",\n\"TOTS3\",\n\"TOTVS\",\n\"ON      NM\",\n{\n            'v': 520230677,\n            'f': \"520230677\",\n        },\n{\n            'v': 0.76,\n            'f': \"0.76\",\n        },\n{\n            'v': 1.14,\n            'f': \"1.14\",\n        },\n\"TOTS3.SA\",\n{\n            'v': 29.27,\n            'f': \"29.27\",\n        },\n{\n            'v': 28.74,\n            'f': \"28.74\",\n        },\n{\n            'v': -1.81,\n            'f': \"-1.81\",\n        },\n\"Programas Servs\",\n\"IBOV\"],\n [{\n            'v': 66,\n            'f': \"66\",\n        },\n\"Energy\",\n\"UGPA3\",\n\"ULTRAPAR\",\n\"ON      NM\",\n{\n            'v': 1084337016,\n            'f': \"1084337016\",\n        },\n{\n            'v': 0.79,\n            'f': \"0.79\",\n        },\n{\n            'v': 16.02,\n            'f': \"16.02\",\n        },\n\"UGPA3.SA\",\n{\n            'v': 14.27,\n            'f': \"14.27\",\n        },\n{\n            'v': 14.27,\n            'f': \"14.27\",\n        },\n{\n            'v': 0.0,\n            'f': \"0.0\",\n        },\n\"G\\u00e1s e Biocombust\\u00edveis\",\n\"IBOV\"],\n [{\n            'v': 61,\n            'f': \"61\",\n        },\n\"Materials\",\n\"USIM5\",\n\"USIMINAS\",\n\"PNA EJ  N1\",\n{\n            'v': 514680651,\n            'f': \"514680651\",\n        },\n{\n            'v': 0.39,\n            'f': \"0.39\",\n        },\n{\n            'v': 3.1,\n            'f': \"3.1\",\n        },\n\"USIM5.SA\",\n{\n            'v': 14.9,\n            'f': \"14.9\",\n        },\n{\n            'v': 14.86,\n            'f': \"14.86\",\n        },\n{\n            'v': -0.27,\n            'f': \"-0.27\",\n        },\n\"Sid Metalurgia\",\n\"IBOV\"],\n [{\n            'v': 56,\n            'f': \"56\",\n        },\n\"Materials\",\n\"VALE3\",\n\"VALE\",\n\"ON      NM\",\n{\n            'v': 3380233503,\n            'f': \"3380233503\",\n        },\n{\n            'v': 13.62,\n            'f': \"13.62\",\n        },\n{\n            'v': 13.92,\n            'f': \"13.92\",\n        },\n\"VALE3.SA\",\n{\n            'v': 79.92,\n            'f': \"79.92\",\n        },\n{\n            'v': 79.15,\n            'f': \"79.15\",\n        },\n{\n            'v': -0.96,\n            'f': \"-0.96\",\n        },\n\"Minera\\u00e7\\u00e3o\",\n\"IBOV\"],\n [{\n            'v': 67,\n            'f': \"67\",\n        },\n\"Energy\",\n\"VBBR3\",\n\"VIBRA\",\n\"ON  EJ  NM\",\n{\n            'v': 1164602565,\n            'f': \"1164602565\",\n        },\n{\n            'v': 1.25,\n            'f': \"1.25\",\n        },\n{\n            'v': 16.02,\n            'f': \"16.02\",\n        },\n\"VBBR3.SA\",\n{\n            'v': 21.26,\n            'f': \"21.26\",\n        },\n{\n            'v': 21.04,\n            'f': \"21.04\",\n        },\n{\n            'v': -1.03,\n            'f': \"-1.03\",\n        },\n\"G\\u00e1s e Biocombust\\u00edveis\",\n\"IBOV\"],\n [{\n            'v': 22,\n            'f': \"22\",\n        },\n\"Consumer Discretionary\",\n\"VIIA3\",\n\"VIA\",\n\"ON      NM\",\n{\n            'v': 1595895585,\n            'f': \"1595895585\",\n        },\n{\n            'v': 0.36,\n            'f': \"0.36\",\n        },\n{\n            'v': 4.1,\n            'f': \"4.1\",\n        },\n\"VIIA3.SA\",\n{\n            'v': 4.5,\n            'f': \"4.5\",\n        },\n{\n            'v': 4.5,\n            'f': \"4.5\",\n        },\n{\n            'v': 0.0,\n            'f': \"0.0\",\n        },\n\"Com\\u00e9rcio\",\n\"IBOV\"],\n [{\n            'v': 78,\n            'f': \"78\",\n        },\n\"Communication Services\",\n\"VIVT3\",\n\"TELEF BRASIL\",\n\"ON\",\n{\n            'v': 443933052,\n            'f': \"443933052\",\n        },\n{\n            'v': 1.13,\n            'f': \"1.13\",\n        },\n{\n            'v': 1.66,\n            'f': \"1.66\",\n        },\n\"VIVT3.SA\",\n{\n            'v': 49.88,\n            'f': \"49.88\",\n        },\n{\n            'v': 49.87,\n            'f': \"49.87\",\n        },\n{\n            'v': -0.02,\n            'f': \"-0.02\",\n        },\n\"Telecomunica\\u00e7\\u00e3o\",\n\"IBOV\"],\n [{\n            'v': 0,\n            'f': \"0\",\n        },\n\"Industrials\",\n\"WEGE3\",\n\"WEG\",\n\"ON  EJ  NM\",\n{\n            'v': 1484859030,\n            'f': \"1484859030\",\n        },\n{\n            'v': 2.53,\n            'f': \"2.53\",\n        },\n{\n            'v': 2.53,\n            'f': \"2.53\",\n        },\n\"WEGE3.SA\",\n{\n            'v': 33.67,\n            'f': \"33.67\",\n        },\n{\n            'v': 33.47,\n            'f': \"33.47\",\n        },\n{\n            'v': -0.59,\n            'f': \"-0.59\",\n        },\n\"M\\u00e1qs e Equips\",\n\"IBOV\"],\n [{\n            'v': 32,\n            'f': \"32\",\n        },\n\"Consumer Staples\",\n\"YDUQ3\",\n\"YDUQS PART\",\n\"ON      NM\",\n{\n            'v': 300833122,\n            'f': \"300833122\",\n        },\n{\n            'v': 0.31,\n            'f': \"0.31\",\n        },\n{\n            'v': 2.6,\n            'f': \"2.6\",\n        },\n\"YDUQ3.SA\",\n{\n            'v': 20.68,\n            'f': \"20.68\",\n        },\n{\n            'v': 20.33,\n            'f': \"20.33\",\n        },\n{\n            'v': -1.69,\n            'f': \"-1.69\",\n        },\n\"Diversos\",\n\"IBOV\"]],\n        columns: [[\"number\", \"level_0\"], [\"string\", \"Setor\"], [\"string\", \"C\\u00f3digo\"], [\"string\", \"A\\u00e7\\u00e3o\"], [\"string\", \"Tipo\"], [\"number\", \"Qtde. Te\\u00f3rica\"], [\"number\", \"Part. (%)\"], [\"number\", \"Part. (%)Acum.\"], [\"string\", \"index\"], [\"number\", \"Ontem\"], [\"number\", \"Hoje\"], [\"number\", \"Var. %\"], [\"string\", \"SubSetor\"], [\"string\", \"Indice\"]],\n        columnOptions: [{\"width\": \"1px\", \"className\": \"index_column\"}],\n        rowsPerPage: 10,\n        helpUrl: \"https://colab.research.google.com/notebooks/data_table.ipynb\",\n        suppressOutputScrolling: true,\n        minimumWidth: undefined,\n      });\n    ",
            "text/plain": [
              "<google.colab.data_table.DataTable object>"
            ],
            "text/html": [
              "<div>\n",
              "<style scoped>\n",
              "    .dataframe tbody tr th:only-of-type {\n",
              "        vertical-align: middle;\n",
              "    }\n",
              "\n",
              "    .dataframe tbody tr th {\n",
              "        vertical-align: top;\n",
              "    }\n",
              "\n",
              "    .dataframe thead th {\n",
              "        text-align: right;\n",
              "    }\n",
              "</style>\n",
              "<table border=\"1\" class=\"dataframe\">\n",
              "  <thead>\n",
              "    <tr style=\"text-align: right;\">\n",
              "      <th></th>\n",
              "      <th>Setor</th>\n",
              "      <th>Código</th>\n",
              "      <th>Ação</th>\n",
              "      <th>Tipo</th>\n",
              "      <th>Qtde. Teórica</th>\n",
              "      <th>Part. (%)</th>\n",
              "      <th>Part. (%)Acum.</th>\n",
              "      <th>index</th>\n",
              "      <th>Ontem</th>\n",
              "      <th>Hoje</th>\n",
              "      <th>Var. %</th>\n",
              "      <th>SubSetor</th>\n",
              "      <th>Indice</th>\n",
              "    </tr>\n",
              "  </thead>\n",
              "  <tbody>\n",
              "    <tr>\n",
              "      <th>11</th>\n",
              "      <td>Consumer Staples</td>\n",
              "      <td>ABEV3</td>\n",
              "      <td>AMBEV S/A</td>\n",
              "      <td>ON  EDJ</td>\n",
              "      <td>4358814864</td>\n",
              "      <td>3.45</td>\n",
              "      <td>3.45</td>\n",
              "      <td>ABEV3.SA</td>\n",
              "      <td>15.39</td>\n",
              "      <td>15.55</td>\n",
              "      <td>1.04</td>\n",
              "      <td>Bebidas</td>\n",
              "      <td>IBOV</td>\n",
              "    </tr>\n",
              "    <tr>\n",
              "      <th>23</th>\n",
              "      <td>Consumer Discretionary</td>\n",
              "      <td>ALPA4</td>\n",
              "      <td>ALPARGATAS</td>\n",
              "      <td>PN      N1</td>\n",
              "      <td>167963777</td>\n",
              "      <td>0.31</td>\n",
              "      <td>0.31</td>\n",
              "      <td>ALPA4.SA</td>\n",
              "      <td>37.60</td>\n",
              "      <td>36.54</td>\n",
              "      <td>-2.82</td>\n",
              "      <td>Tecid Vest Calç</td>\n",
              "      <td>IBOV</td>\n",
              "    </tr>\n",
              "    <tr>\n",
              "      <th>16</th>\n",
              "      <td>Consumer Discretionary</td>\n",
              "      <td>AMER3</td>\n",
              "      <td>AMERICANAS</td>\n",
              "      <td>ON      NM</td>\n",
              "      <td>546064815</td>\n",
              "      <td>0.85</td>\n",
              "      <td>4.10</td>\n",
              "      <td>AMER3.SA</td>\n",
              "      <td>30.62</td>\n",
              "      <td>30.73</td>\n",
              "      <td>0.36</td>\n",
              "      <td>Comércio</td>\n",
              "      <td>IBOV</td>\n",
              "    </tr>\n",
              "    <tr>\n",
              "      <th>12</th>\n",
              "      <td>Consumer Staples</td>\n",
              "      <td>ASAI3</td>\n",
              "      <td>ASSAI</td>\n",
              "      <td>ON      NM</td>\n",
              "      <td>794116430</td>\n",
              "      <td>0.57</td>\n",
              "      <td>1.07</td>\n",
              "      <td>ASAI3.SA</td>\n",
              "      <td>14.16</td>\n",
              "      <td>14.09</td>\n",
              "      <td>-0.49</td>\n",
              "      <td>Comércio Distr.</td>\n",
              "      <td>IBOV</td>\n",
              "    </tr>\n",
              "    <tr>\n",
              "      <th>2</th>\n",
              "      <td>Industrials</td>\n",
              "      <td>AZUL4</td>\n",
              "      <td>AZUL</td>\n",
              "      <td>PN      N2</td>\n",
              "      <td>327741172</td>\n",
              "      <td>0.44</td>\n",
              "      <td>2.50</td>\n",
              "      <td>AZUL4.SA</td>\n",
              "      <td>26.80</td>\n",
              "      <td>26.46</td>\n",
              "      <td>-1.27</td>\n",
              "      <td>Transporte</td>\n",
              "      <td>IBOV</td>\n",
              "    </tr>\n",
              "    <tr>\n",
              "      <th>...</th>\n",
              "      <td>...</td>\n",
              "      <td>...</td>\n",
              "      <td>...</td>\n",
              "      <td>...</td>\n",
              "      <td>...</td>\n",
              "      <td>...</td>\n",
              "      <td>...</td>\n",
              "      <td>...</td>\n",
              "      <td>...</td>\n",
              "      <td>...</td>\n",
              "      <td>...</td>\n",
              "      <td>...</td>\n",
              "      <td>...</td>\n",
              "    </tr>\n",
              "    <tr>\n",
              "      <th>67</th>\n",
              "      <td>Energy</td>\n",
              "      <td>VBBR3</td>\n",
              "      <td>VIBRA</td>\n",
              "      <td>ON  EJ  NM</td>\n",
              "      <td>1164602565</td>\n",
              "      <td>1.25</td>\n",
              "      <td>16.02</td>\n",
              "      <td>VBBR3.SA</td>\n",
              "      <td>21.26</td>\n",
              "      <td>21.04</td>\n",
              "      <td>-1.03</td>\n",
              "      <td>Gás e Biocombustíveis</td>\n",
              "      <td>IBOV</td>\n",
              "    </tr>\n",
              "    <tr>\n",
              "      <th>22</th>\n",
              "      <td>Consumer Discretionary</td>\n",
              "      <td>VIIA3</td>\n",
              "      <td>VIA</td>\n",
              "      <td>ON      NM</td>\n",
              "      <td>1595895585</td>\n",
              "      <td>0.36</td>\n",
              "      <td>4.10</td>\n",
              "      <td>VIIA3.SA</td>\n",
              "      <td>4.50</td>\n",
              "      <td>4.50</td>\n",
              "      <td>0.00</td>\n",
              "      <td>Comércio</td>\n",
              "      <td>IBOV</td>\n",
              "    </tr>\n",
              "    <tr>\n",
              "      <th>78</th>\n",
              "      <td>Communication Services</td>\n",
              "      <td>VIVT3</td>\n",
              "      <td>TELEF BRASIL</td>\n",
              "      <td>ON</td>\n",
              "      <td>443933052</td>\n",
              "      <td>1.13</td>\n",
              "      <td>1.66</td>\n",
              "      <td>VIVT3.SA</td>\n",
              "      <td>49.88</td>\n",
              "      <td>49.87</td>\n",
              "      <td>-0.02</td>\n",
              "      <td>Telecomunicação</td>\n",
              "      <td>IBOV</td>\n",
              "    </tr>\n",
              "    <tr>\n",
              "      <th>0</th>\n",
              "      <td>Industrials</td>\n",
              "      <td>WEGE3</td>\n",
              "      <td>WEG</td>\n",
              "      <td>ON  EJ  NM</td>\n",
              "      <td>1484859030</td>\n",
              "      <td>2.53</td>\n",
              "      <td>2.53</td>\n",
              "      <td>WEGE3.SA</td>\n",
              "      <td>33.67</td>\n",
              "      <td>33.47</td>\n",
              "      <td>-0.59</td>\n",
              "      <td>Máqs e Equips</td>\n",
              "      <td>IBOV</td>\n",
              "    </tr>\n",
              "    <tr>\n",
              "      <th>32</th>\n",
              "      <td>Consumer Staples</td>\n",
              "      <td>YDUQ3</td>\n",
              "      <td>YDUQS PART</td>\n",
              "      <td>ON      NM</td>\n",
              "      <td>300833122</td>\n",
              "      <td>0.31</td>\n",
              "      <td>2.60</td>\n",
              "      <td>YDUQ3.SA</td>\n",
              "      <td>20.68</td>\n",
              "      <td>20.33</td>\n",
              "      <td>-1.69</td>\n",
              "      <td>Diversos</td>\n",
              "      <td>IBOV</td>\n",
              "    </tr>\n",
              "  </tbody>\n",
              "</table>\n",
              "<p>92 rows × 13 columns</p>\n",
              "</div>"
            ]
          },
          "metadata": {},
          "execution_count": 10
        }
      ]
    },
    {
      "cell_type": "markdown",
      "metadata": {
        "id": "jFvBWkcljY_6"
      },
      "source": [
        "# Graficos"
      ]
    },
    {
      "cell_type": "code",
      "metadata": {
        "cellView": "form",
        "id": "96Kml29tsn9e",
        "colab": {
          "base_uri": "https://localhost:8080/"
        },
        "outputId": "82a6c4f7-5ca4-45a9-f41b-cd2277b7a6f0"
      },
      "source": [
        "#@title Log de data ultima Execução\n",
        "from datetime import datetime\n",
        "\n",
        "data_e_hora_atuais = datetime.now()\n",
        "\n",
        "print(\"ULTIMA EXECUÇÃO EM:\")\n",
        "\n",
        "data_e_hora_em_texto = data_e_hora_atuais.strftime('%d/%m/%Y %H:%M')\n",
        "\n",
        "print(data_e_hora_em_texto)"
      ],
      "execution_count": null,
      "outputs": [
        {
          "output_type": "stream",
          "name": "stdout",
          "text": [
            "ULTIMA EXECUÇÃO EM:\n",
            "25/12/2021 21:22\n"
          ]
        }
      ]
    },
    {
      "cell_type": "code",
      "metadata": {
        "id": "E2y0J-tydMd3",
        "cellView": "form",
        "colab": {
          "base_uri": "https://localhost:8080/",
          "height": 816
        },
        "outputId": "4bfa059a-90e9-4d0e-d365-882815f4eabc"
      },
      "source": [
        "#@title GICS SETORES\n",
        "\n",
        "\n",
        "fig_ibov_Setor =px.sunburst(data_frame=ibov, path=['Indice','Setor'], values='Part. (%)', height = 800,\n",
        "                      color='Var. %', hover_data=['Código'],title=\"Performance por Setor\",\n",
        "                      color_continuous_scale=['#CD3631', '#D13732','#DB3934','#EF3F39','#F23F3A','#FD433D', '#4FD191', '#23C575','#21BA6E', '#20B36B', '#20B26A', '#18854F'],color_continuous_midpoint=0)\n",
        "\n",
        "fig_ibov_Setor.update_traces(textfont_color='white', textfont_size=14)\n",
        "                       #hovertemplate='%{label}: %{value:.2f}%',)\n",
        "\n",
        "fig_ibov_Setor.update_layout(font_family=\"Roboto\",\n",
        "                       font_color=\"dimgray\", \n",
        "                       title_font_family=\"Arial Black\",\n",
        "                       #plot_bgcolor='white',\n",
        "                       paper_bgcolor='white',\n",
        "                       title_font_color=\"black\",\n",
        "                       legend_title_font_color=\"green\", \n",
        "                       title_font_size=45,)  \n",
        "\n",
        "fig_ibov_Setor.update_layout(\n",
        "    title={\n",
        "        'y':.95,\n",
        "        'x':0.5,\n",
        "        'xanchor': 'center',\n",
        "        'yanchor': 'top'})\n",
        "\n",
        "\n"
      ],
      "execution_count": null,
      "outputs": [
        {
          "output_type": "display_data",
          "data": {
            "text/html": [
              "<html>\n",
              "<head><meta charset=\"utf-8\" /></head>\n",
              "<body>\n",
              "    <div>            <script src=\"https://cdnjs.cloudflare.com/ajax/libs/mathjax/2.7.5/MathJax.js?config=TeX-AMS-MML_SVG\"></script><script type=\"text/javascript\">if (window.MathJax) {MathJax.Hub.Config({SVG: {font: \"STIX-Web\"}});}</script>                <script type=\"text/javascript\">window.PlotlyConfig = {MathJaxConfig: 'local'};</script>\n",
              "        <script src=\"https://cdn.plot.ly/plotly-2.8.3.min.js\"></script>                <div id=\"578bf2f6-bb53-4c07-b8cb-db7b44239c31\" class=\"plotly-graph-div\" style=\"height:800px; width:100%;\"></div>            <script type=\"text/javascript\">                                    window.PLOTLYENV=window.PLOTLYENV || {};                                    if (document.getElementById(\"578bf2f6-bb53-4c07-b8cb-db7b44239c31\")) {                    Plotly.newPlot(                        \"578bf2f6-bb53-4c07-b8cb-db7b44239c31\",                        [{\"branchvalues\":\"total\",\"customdata\":[[\"(?)\",-0.0391566265060241],[\"(?)\",-0.7016764132553608],[\"(?)\",0.46731051344743263],[\"(?)\",0.2707548346849657],[\"(?)\",-0.6090821458507961],[\"(?)\",-1.6974028268551233],[\"(?)\",-0.3347811447811448],[\"(?)\",-1.7314782608695654],[\"(?)\",-0.6806560449859418],[\"(?)\",-0.8642959770114942],[\"(?)\",-0.42250999999999983]],\"domain\":{\"x\":[0.0,1.0],\"y\":[0.0,1.0]},\"hovertemplate\":\"labels=%{label}<br>Part. (%)=%{value}<br>parent=%{parent}<br>id=%{id}<br>C\\u00f3digo=%{customdata[0]}<br>Var. %=%{color}<extra></extra>\",\"ids\":[\"IBOV/Communication Services\",\"IBOV/Consumer Discretionary\",\"IBOV/Consumer Staples\",\"IBOV/Energy\",\"IBOV/Financials\",\"IBOV/Health Care\",\"IBOV/Industrials\",\"IBOV/Information Technology\",\"IBOV/Materials\",\"IBOV/Utilities\",\"IBOV\"],\"labels\":[\"Communication Services\",\"Consumer Discretionary\",\"Consumer Staples\",\"Energy\",\"Financials\",\"Health Care\",\"Industrials\",\"Information Technology\",\"Materials\",\"Utilities\",\"IBOV\"],\"marker\":{\"coloraxis\":\"coloraxis\",\"colors\":[-0.0391566265060241,-0.7016764132553608,0.46731051344743263,0.2707548346849657,-0.6090821458507961,-1.6974028268551233,-0.3347811447811448,-1.7314782608695654,-0.6806560449859418,-0.8642959770114942,-0.42250999999999983]},\"name\":\"\",\"parents\":[\"IBOV\",\"IBOV\",\"IBOV\",\"IBOV\",\"IBOV\",\"IBOV\",\"IBOV\",\"IBOV\",\"IBOV\",\"IBOV\",\"\"],\"values\":[1.66,5.13,12.270000000000001,16.029999999999998,23.86,5.660000000000001,5.9399999999999995,1.15,21.34,6.960000000000001,100.00000000000004],\"type\":\"sunburst\",\"textfont\":{\"color\":\"white\",\"size\":14}}],                        {\"template\":{\"data\":{\"bar\":[{\"error_x\":{\"color\":\"#2a3f5f\"},\"error_y\":{\"color\":\"#2a3f5f\"},\"marker\":{\"line\":{\"color\":\"#E5ECF6\",\"width\":0.5},\"pattern\":{\"fillmode\":\"overlay\",\"size\":10,\"solidity\":0.2}},\"type\":\"bar\"}],\"barpolar\":[{\"marker\":{\"line\":{\"color\":\"#E5ECF6\",\"width\":0.5},\"pattern\":{\"fillmode\":\"overlay\",\"size\":10,\"solidity\":0.2}},\"type\":\"barpolar\"}],\"carpet\":[{\"aaxis\":{\"endlinecolor\":\"#2a3f5f\",\"gridcolor\":\"white\",\"linecolor\":\"white\",\"minorgridcolor\":\"white\",\"startlinecolor\":\"#2a3f5f\"},\"baxis\":{\"endlinecolor\":\"#2a3f5f\",\"gridcolor\":\"white\",\"linecolor\":\"white\",\"minorgridcolor\":\"white\",\"startlinecolor\":\"#2a3f5f\"},\"type\":\"carpet\"}],\"choropleth\":[{\"colorbar\":{\"outlinewidth\":0,\"ticks\":\"\"},\"type\":\"choropleth\"}],\"contour\":[{\"colorbar\":{\"outlinewidth\":0,\"ticks\":\"\"},\"colorscale\":[[0.0,\"#0d0887\"],[0.1111111111111111,\"#46039f\"],[0.2222222222222222,\"#7201a8\"],[0.3333333333333333,\"#9c179e\"],[0.4444444444444444,\"#bd3786\"],[0.5555555555555556,\"#d8576b\"],[0.6666666666666666,\"#ed7953\"],[0.7777777777777778,\"#fb9f3a\"],[0.8888888888888888,\"#fdca26\"],[1.0,\"#f0f921\"]],\"type\":\"contour\"}],\"contourcarpet\":[{\"colorbar\":{\"outlinewidth\":0,\"ticks\":\"\"},\"type\":\"contourcarpet\"}],\"heatmap\":[{\"colorbar\":{\"outlinewidth\":0,\"ticks\":\"\"},\"colorscale\":[[0.0,\"#0d0887\"],[0.1111111111111111,\"#46039f\"],[0.2222222222222222,\"#7201a8\"],[0.3333333333333333,\"#9c179e\"],[0.4444444444444444,\"#bd3786\"],[0.5555555555555556,\"#d8576b\"],[0.6666666666666666,\"#ed7953\"],[0.7777777777777778,\"#fb9f3a\"],[0.8888888888888888,\"#fdca26\"],[1.0,\"#f0f921\"]],\"type\":\"heatmap\"}],\"heatmapgl\":[{\"colorbar\":{\"outlinewidth\":0,\"ticks\":\"\"},\"colorscale\":[[0.0,\"#0d0887\"],[0.1111111111111111,\"#46039f\"],[0.2222222222222222,\"#7201a8\"],[0.3333333333333333,\"#9c179e\"],[0.4444444444444444,\"#bd3786\"],[0.5555555555555556,\"#d8576b\"],[0.6666666666666666,\"#ed7953\"],[0.7777777777777778,\"#fb9f3a\"],[0.8888888888888888,\"#fdca26\"],[1.0,\"#f0f921\"]],\"type\":\"heatmapgl\"}],\"histogram\":[{\"marker\":{\"pattern\":{\"fillmode\":\"overlay\",\"size\":10,\"solidity\":0.2}},\"type\":\"histogram\"}],\"histogram2d\":[{\"colorbar\":{\"outlinewidth\":0,\"ticks\":\"\"},\"colorscale\":[[0.0,\"#0d0887\"],[0.1111111111111111,\"#46039f\"],[0.2222222222222222,\"#7201a8\"],[0.3333333333333333,\"#9c179e\"],[0.4444444444444444,\"#bd3786\"],[0.5555555555555556,\"#d8576b\"],[0.6666666666666666,\"#ed7953\"],[0.7777777777777778,\"#fb9f3a\"],[0.8888888888888888,\"#fdca26\"],[1.0,\"#f0f921\"]],\"type\":\"histogram2d\"}],\"histogram2dcontour\":[{\"colorbar\":{\"outlinewidth\":0,\"ticks\":\"\"},\"colorscale\":[[0.0,\"#0d0887\"],[0.1111111111111111,\"#46039f\"],[0.2222222222222222,\"#7201a8\"],[0.3333333333333333,\"#9c179e\"],[0.4444444444444444,\"#bd3786\"],[0.5555555555555556,\"#d8576b\"],[0.6666666666666666,\"#ed7953\"],[0.7777777777777778,\"#fb9f3a\"],[0.8888888888888888,\"#fdca26\"],[1.0,\"#f0f921\"]],\"type\":\"histogram2dcontour\"}],\"mesh3d\":[{\"colorbar\":{\"outlinewidth\":0,\"ticks\":\"\"},\"type\":\"mesh3d\"}],\"parcoords\":[{\"line\":{\"colorbar\":{\"outlinewidth\":0,\"ticks\":\"\"}},\"type\":\"parcoords\"}],\"pie\":[{\"automargin\":true,\"type\":\"pie\"}],\"scatter\":[{\"marker\":{\"colorbar\":{\"outlinewidth\":0,\"ticks\":\"\"}},\"type\":\"scatter\"}],\"scatter3d\":[{\"line\":{\"colorbar\":{\"outlinewidth\":0,\"ticks\":\"\"}},\"marker\":{\"colorbar\":{\"outlinewidth\":0,\"ticks\":\"\"}},\"type\":\"scatter3d\"}],\"scattercarpet\":[{\"marker\":{\"colorbar\":{\"outlinewidth\":0,\"ticks\":\"\"}},\"type\":\"scattercarpet\"}],\"scattergeo\":[{\"marker\":{\"colorbar\":{\"outlinewidth\":0,\"ticks\":\"\"}},\"type\":\"scattergeo\"}],\"scattergl\":[{\"marker\":{\"colorbar\":{\"outlinewidth\":0,\"ticks\":\"\"}},\"type\":\"scattergl\"}],\"scattermapbox\":[{\"marker\":{\"colorbar\":{\"outlinewidth\":0,\"ticks\":\"\"}},\"type\":\"scattermapbox\"}],\"scatterpolar\":[{\"marker\":{\"colorbar\":{\"outlinewidth\":0,\"ticks\":\"\"}},\"type\":\"scatterpolar\"}],\"scatterpolargl\":[{\"marker\":{\"colorbar\":{\"outlinewidth\":0,\"ticks\":\"\"}},\"type\":\"scatterpolargl\"}],\"scatterternary\":[{\"marker\":{\"colorbar\":{\"outlinewidth\":0,\"ticks\":\"\"}},\"type\":\"scatterternary\"}],\"surface\":[{\"colorbar\":{\"outlinewidth\":0,\"ticks\":\"\"},\"colorscale\":[[0.0,\"#0d0887\"],[0.1111111111111111,\"#46039f\"],[0.2222222222222222,\"#7201a8\"],[0.3333333333333333,\"#9c179e\"],[0.4444444444444444,\"#bd3786\"],[0.5555555555555556,\"#d8576b\"],[0.6666666666666666,\"#ed7953\"],[0.7777777777777778,\"#fb9f3a\"],[0.8888888888888888,\"#fdca26\"],[1.0,\"#f0f921\"]],\"type\":\"surface\"}],\"table\":[{\"cells\":{\"fill\":{\"color\":\"#EBF0F8\"},\"line\":{\"color\":\"white\"}},\"header\":{\"fill\":{\"color\":\"#C8D4E3\"},\"line\":{\"color\":\"white\"}},\"type\":\"table\"}]},\"layout\":{\"annotationdefaults\":{\"arrowcolor\":\"#2a3f5f\",\"arrowhead\":0,\"arrowwidth\":1},\"autotypenumbers\":\"strict\",\"coloraxis\":{\"colorbar\":{\"outlinewidth\":0,\"ticks\":\"\"}},\"colorscale\":{\"diverging\":[[0,\"#8e0152\"],[0.1,\"#c51b7d\"],[0.2,\"#de77ae\"],[0.3,\"#f1b6da\"],[0.4,\"#fde0ef\"],[0.5,\"#f7f7f7\"],[0.6,\"#e6f5d0\"],[0.7,\"#b8e186\"],[0.8,\"#7fbc41\"],[0.9,\"#4d9221\"],[1,\"#276419\"]],\"sequential\":[[0.0,\"#0d0887\"],[0.1111111111111111,\"#46039f\"],[0.2222222222222222,\"#7201a8\"],[0.3333333333333333,\"#9c179e\"],[0.4444444444444444,\"#bd3786\"],[0.5555555555555556,\"#d8576b\"],[0.6666666666666666,\"#ed7953\"],[0.7777777777777778,\"#fb9f3a\"],[0.8888888888888888,\"#fdca26\"],[1.0,\"#f0f921\"]],\"sequentialminus\":[[0.0,\"#0d0887\"],[0.1111111111111111,\"#46039f\"],[0.2222222222222222,\"#7201a8\"],[0.3333333333333333,\"#9c179e\"],[0.4444444444444444,\"#bd3786\"],[0.5555555555555556,\"#d8576b\"],[0.6666666666666666,\"#ed7953\"],[0.7777777777777778,\"#fb9f3a\"],[0.8888888888888888,\"#fdca26\"],[1.0,\"#f0f921\"]]},\"colorway\":[\"#636efa\",\"#EF553B\",\"#00cc96\",\"#ab63fa\",\"#FFA15A\",\"#19d3f3\",\"#FF6692\",\"#B6E880\",\"#FF97FF\",\"#FECB52\"],\"font\":{\"color\":\"#2a3f5f\"},\"geo\":{\"bgcolor\":\"white\",\"lakecolor\":\"white\",\"landcolor\":\"#E5ECF6\",\"showlakes\":true,\"showland\":true,\"subunitcolor\":\"white\"},\"hoverlabel\":{\"align\":\"left\"},\"hovermode\":\"closest\",\"mapbox\":{\"style\":\"light\"},\"paper_bgcolor\":\"white\",\"plot_bgcolor\":\"#E5ECF6\",\"polar\":{\"angularaxis\":{\"gridcolor\":\"white\",\"linecolor\":\"white\",\"ticks\":\"\"},\"bgcolor\":\"#E5ECF6\",\"radialaxis\":{\"gridcolor\":\"white\",\"linecolor\":\"white\",\"ticks\":\"\"}},\"scene\":{\"xaxis\":{\"backgroundcolor\":\"#E5ECF6\",\"gridcolor\":\"white\",\"gridwidth\":2,\"linecolor\":\"white\",\"showbackground\":true,\"ticks\":\"\",\"zerolinecolor\":\"white\"},\"yaxis\":{\"backgroundcolor\":\"#E5ECF6\",\"gridcolor\":\"white\",\"gridwidth\":2,\"linecolor\":\"white\",\"showbackground\":true,\"ticks\":\"\",\"zerolinecolor\":\"white\"},\"zaxis\":{\"backgroundcolor\":\"#E5ECF6\",\"gridcolor\":\"white\",\"gridwidth\":2,\"linecolor\":\"white\",\"showbackground\":true,\"ticks\":\"\",\"zerolinecolor\":\"white\"}},\"shapedefaults\":{\"line\":{\"color\":\"#2a3f5f\"}},\"ternary\":{\"aaxis\":{\"gridcolor\":\"white\",\"linecolor\":\"white\",\"ticks\":\"\"},\"baxis\":{\"gridcolor\":\"white\",\"linecolor\":\"white\",\"ticks\":\"\"},\"bgcolor\":\"#E5ECF6\",\"caxis\":{\"gridcolor\":\"white\",\"linecolor\":\"white\",\"ticks\":\"\"}},\"title\":{\"x\":0.05},\"xaxis\":{\"automargin\":true,\"gridcolor\":\"white\",\"linecolor\":\"white\",\"ticks\":\"\",\"title\":{\"standoff\":15},\"zerolinecolor\":\"white\",\"zerolinewidth\":2},\"yaxis\":{\"automargin\":true,\"gridcolor\":\"white\",\"linecolor\":\"white\",\"ticks\":\"\",\"title\":{\"standoff\":15},\"zerolinecolor\":\"white\",\"zerolinewidth\":2}}},\"coloraxis\":{\"colorbar\":{\"title\":{\"text\":\"Var. %\"}},\"colorscale\":[[0.0,\"#CD3631\"],[0.09090909090909091,\"#D13732\"],[0.18181818181818182,\"#DB3934\"],[0.2727272727272727,\"#EF3F39\"],[0.36363636363636365,\"#F23F3A\"],[0.45454545454545453,\"#FD433D\"],[0.5454545454545454,\"#4FD191\"],[0.6363636363636364,\"#23C575\"],[0.7272727272727273,\"#21BA6E\"],[0.8181818181818182,\"#20B36B\"],[0.9090909090909091,\"#20B26A\"],[1.0,\"#18854F\"]],\"cmid\":0},\"legend\":{\"tracegroupgap\":0,\"title\":{\"font\":{\"color\":\"green\"}}},\"title\":{\"text\":\"Performance por Setor\",\"font\":{\"family\":\"Arial Black\",\"color\":\"black\",\"size\":45},\"y\":0.95,\"x\":0.5,\"xanchor\":\"center\",\"yanchor\":\"top\"},\"height\":800,\"font\":{\"family\":\"Roboto\",\"color\":\"dimgray\"},\"paper_bgcolor\":\"white\"},                        {\"responsive\": true}                    ).then(function(){\n",
              "                            \n",
              "var gd = document.getElementById('578bf2f6-bb53-4c07-b8cb-db7b44239c31');\n",
              "var x = new MutationObserver(function (mutations, observer) {{\n",
              "        var display = window.getComputedStyle(gd).display;\n",
              "        if (!display || display === 'none') {{\n",
              "            console.log([gd, 'removed!']);\n",
              "            Plotly.purge(gd);\n",
              "            observer.disconnect();\n",
              "        }}\n",
              "}});\n",
              "\n",
              "// Listen for the removal of the full notebook cells\n",
              "var notebookContainer = gd.closest('#notebook-container');\n",
              "if (notebookContainer) {{\n",
              "    x.observe(notebookContainer, {childList: true});\n",
              "}}\n",
              "\n",
              "// Listen for the clearing of the current output cell\n",
              "var outputEl = gd.closest('.output');\n",
              "if (outputEl) {{\n",
              "    x.observe(outputEl, {childList: true});\n",
              "}}\n",
              "\n",
              "                        })                };                            </script>        </div>\n",
              "</body>\n",
              "</html>"
            ]
          },
          "metadata": {}
        }
      ]
    },
    {
      "cell_type": "code",
      "metadata": {
        "id": "BwmrbXWl-qoq",
        "cellView": "form",
        "colab": {
          "base_uri": "https://localhost:8080/",
          "height": 816
        },
        "outputId": "0502f382-abd2-487f-dc0b-b72b5d44db0f"
      },
      "source": [
        "#@title GICS SUB SETORES\n",
        "\n",
        "fig_ibov_SubSetor =px.sunburst(data_frame=ibov, path=['Setor', 'SubSetor'], values='Part. (%)', height = 800,\n",
        "                      color='Var. %', hover_data=['Código'],title=\"Performance por SubSector\",\n",
        "                      color_continuous_scale=['#CD3631', '#D13732','#DB3934','#EF3F39','#F23F3A','#FD433D', '#4FD191', '#23C575','#21BA6E', '#20B36B', '#20B26A', '#18854F'],color_continuous_midpoint=0)\n",
        "\n",
        "fig_ibov_SubSetor.update_traces(textfont_color='white', textfont_size=14)\n",
        "                       #hovertemplate='%{label}: %{value:.2f}%',)\n",
        "\n",
        "fig_ibov_SubSetor.update_layout(font_family=\"Roboto\",\n",
        "                       font_color=\"dimgray\", \n",
        "                       title_font_family=\"Arial Black\",\n",
        "                       #plot_bgcolor='white',\n",
        "                       paper_bgcolor='white',\n",
        "                       title_font_color=\"black\",\n",
        "                       legend_title_font_color=\"green\", \n",
        "                       title_font_size=45,)  \n",
        "\n",
        "fig_ibov_SubSetor.update_layout(\n",
        "    title={\n",
        "        'y':.95,\n",
        "        'x':0.5,\n",
        "        'xanchor': 'center',\n",
        "        'yanchor': 'top'})\n"
      ],
      "execution_count": null,
      "outputs": [
        {
          "output_type": "display_data",
          "data": {
            "text/html": [
              "<html>\n",
              "<head><meta charset=\"utf-8\" /></head>\n",
              "<body>\n",
              "    <div>            <script src=\"https://cdnjs.cloudflare.com/ajax/libs/mathjax/2.7.5/MathJax.js?config=TeX-AMS-MML_SVG\"></script><script type=\"text/javascript\">if (window.MathJax) {MathJax.Hub.Config({SVG: {font: \"STIX-Web\"}});}</script>                <script type=\"text/javascript\">window.PlotlyConfig = {MathJaxConfig: 'local'};</script>\n",
              "        <script src=\"https://cdn.plot.ly/plotly-2.8.3.min.js\"></script>                <div id=\"f6d44c33-3d4b-4fa1-8921-4f376645afa4\" class=\"plotly-graph-div\" style=\"height:800px; width:100%;\"></div>            <script type=\"text/javascript\">                                    window.PLOTLYENV=window.PLOTLYENV || {};                                    if (document.getElementById(\"f6d44c33-3d4b-4fa1-8921-4f376645afa4\")) {                    Plotly.newPlot(                        \"f6d44c33-3d4b-4fa1-8921-4f376645afa4\",                        [{\"branchvalues\":\"total\",\"customdata\":[[\"(?)\",1.7043950617283952],[\"ABEV3\",1.04],[\"(?)\",-0.5434718826405868],[\"(?)\",-0.04588785046728972],[\"(?)\",0.010890052356020941],[\"(?)\",-0.14912280701754388],[\"(?)\",-1.6626153846153846],[\"(?)\",-0.8878787878787877],[\"(?)\",-16.80513888888889],[\"(?)\",0.2707548346849657],[\"(?)\",0.11892621145374453],[\"(?)\",0.33587570621468926],[\"EMBR3\",3.18],[\"(?)\",-0.9217229002153625],[\"WEGE3\",-0.59],[\"NTCO3\",-0.35],[\"(?)\",-0.6670454545454547],[\"(?)\",-1.7314782608695654],[\"BRKM5\",1.13],[\"(?)\",-2.5674933333333336],[\"(?)\",-1.0142622950819673],[\"(?)\",-1.207967741935484],[\"ALPA4\",-2.82],[\"(?)\",-0.0391566265060241],[\"(?)\",-1.3558800000000002],[\"CVCB3\",-2.61],[\"SBSP3\",-0.65],[\"(?)\",-0.0391566265060241],[\"(?)\",-0.7016764132553608],[\"(?)\",0.46731051344743263],[\"(?)\",0.2707548346849657],[\"(?)\",-0.6090821458507961],[\"(?)\",-1.6974028268551233],[\"(?)\",-0.3347811447811448],[\"(?)\",-1.7314782608695654],[\"(?)\",-0.6806560449859418],[\"(?)\",-0.8642959770114942]],\"domain\":{\"x\":[0.0,1.0],\"y\":[0.0,1.0]},\"hovertemplate\":\"labels=%{label}<br>Part. (%)=%{value}<br>parent=%{parent}<br>id=%{id}<br>C\\u00f3digo=%{customdata[0]}<br>Var. %=%{color}<extra></extra>\",\"ids\":[\"Consumer Staples/Alimentos Processados\",\"Consumer Staples/Bebidas\",\"Consumer Discretionary/Com\\u00e9rcio\",\"Consumer Staples/Com\\u00e9rcio Distr.\",\"Health Care/Com\\u00e9rcio Distr.\",\"Consumer Discretionary/Constr Civil\",\"Consumer Staples/Diversos\",\"Utilities/Energ El\\u00e9trica\",\"Financials/Explor Im\\u00f3veis\",\"Energy/G\\u00e1s e Biocombust\\u00edveis\",\"Financials/Interms Financs\",\"Materials/Madeira e Papel\",\"Industrials/Mat Transporte\",\"Materials/Minera\\u00e7\\u00e3o\",\"Industrials/M\\u00e1qs e Equips\",\"Consumer Staples/Pr Pessoal Limp\",\"Financials/Previd  Seguros\",\"Information Technology/Programas Servs\",\"Materials/Qu\\u00edmicos\",\"Health Care/SM Hosp An.Diag\",\"Financials/Servi\\u00e7os Financeiros Diversos\",\"Materials/Sid Metalurgia\",\"Consumer Discretionary/Tecid Vest Cal\\u00e7\",\"Communication Services/Telecomunica\\u00e7\\u00e3o\",\"Industrials/Transporte\",\"Consumer Discretionary/Viagens e Lazer\",\"Utilities/\\u00c1gua Saneamento\",\"Communication Services\",\"Consumer Discretionary\",\"Consumer Staples\",\"Energy\",\"Financials\",\"Health Care\",\"Industrials\",\"Information Technology\",\"Materials\",\"Utilities\"],\"labels\":[\"Alimentos Processados\",\"Bebidas\",\"Com\\u00e9rcio\",\"Com\\u00e9rcio Distr.\",\"Com\\u00e9rcio Distr.\",\"Constr Civil\",\"Diversos\",\"Energ El\\u00e9trica\",\"Explor Im\\u00f3veis\",\"G\\u00e1s e Biocombust\\u00edveis\",\"Interms Financs\",\"Madeira e Papel\",\"Mat Transporte\",\"Minera\\u00e7\\u00e3o\",\"M\\u00e1qs e Equips\",\"Pr Pessoal Limp\",\"Previd  Seguros\",\"Programas Servs\",\"Qu\\u00edmicos\",\"SM Hosp An.Diag\",\"Servi\\u00e7os Financeiros Diversos\",\"Sid Metalurgia\",\"Tecid Vest Cal\\u00e7\",\"Telecomunica\\u00e7\\u00e3o\",\"Transporte\",\"Viagens e Lazer\",\"\\u00c1gua Saneamento\",\"Communication Services\",\"Consumer Discretionary\",\"Consumer Staples\",\"Energy\",\"Financials\",\"Health Care\",\"Industrials\",\"Information Technology\",\"Materials\",\"Utilities\"],\"marker\":{\"coloraxis\":\"coloraxis\",\"colors\":[1.7043950617283952,1.04,-0.5434718826405868,-0.04588785046728972,0.010890052356020941,-0.14912280701754388,-1.6626153846153846,-0.8878787878787877,-16.80513888888889,0.2707548346849657,0.11892621145374453,0.33587570621468926,3.18,-0.9217229002153625,-0.59,-0.35,-0.6670454545454547,-1.7314782608695654,1.13,-2.5674933333333336,-1.0142622950819673,-1.207967741935484,-2.82,-0.0391566265060241,-1.3558800000000002,-2.61,-0.65,-0.0391566265060241,-0.7016764132553608,0.46731051344743263,0.2707548346849657,-0.6090821458507961,-1.6974028268551233,-0.3347811447811448,-1.7314782608695654,-0.6806560449859418,-0.8642959770114942]},\"name\":\"\",\"parents\":[\"Consumer Staples\",\"Consumer Staples\",\"Consumer Discretionary\",\"Consumer Staples\",\"Health Care\",\"Consumer Discretionary\",\"Consumer Staples\",\"Utilities\",\"Financials\",\"Energy\",\"Financials\",\"Materials\",\"Industrials\",\"Materials\",\"Industrials\",\"Consumer Staples\",\"Financials\",\"Information Technology\",\"Materials\",\"Health Care\",\"Financials\",\"Materials\",\"Consumer Discretionary\",\"Communication Services\",\"Industrials\",\"Consumer Discretionary\",\"Utilities\",\"\",\"\",\"\",\"\",\"\",\"\",\"\",\"\",\"\",\"\"],\"values\":[4.05,3.45,4.090000000000001,1.0699999999999998,1.9100000000000001,0.5700000000000001,2.6,6.270000000000001,0.72,16.029999999999998,18.159999999999997,3.54,0.91,13.93,2.53,1.1,1.3199999999999998,1.15,0.77,3.75,3.66,3.1,0.31,1.66,2.5,0.16,0.69,1.66,5.13,12.270000000000001,16.029999999999998,23.86,5.660000000000001,5.9399999999999995,1.15,21.34,6.960000000000001],\"type\":\"sunburst\",\"textfont\":{\"color\":\"white\",\"size\":14}}],                        {\"template\":{\"data\":{\"bar\":[{\"error_x\":{\"color\":\"#2a3f5f\"},\"error_y\":{\"color\":\"#2a3f5f\"},\"marker\":{\"line\":{\"color\":\"#E5ECF6\",\"width\":0.5},\"pattern\":{\"fillmode\":\"overlay\",\"size\":10,\"solidity\":0.2}},\"type\":\"bar\"}],\"barpolar\":[{\"marker\":{\"line\":{\"color\":\"#E5ECF6\",\"width\":0.5},\"pattern\":{\"fillmode\":\"overlay\",\"size\":10,\"solidity\":0.2}},\"type\":\"barpolar\"}],\"carpet\":[{\"aaxis\":{\"endlinecolor\":\"#2a3f5f\",\"gridcolor\":\"white\",\"linecolor\":\"white\",\"minorgridcolor\":\"white\",\"startlinecolor\":\"#2a3f5f\"},\"baxis\":{\"endlinecolor\":\"#2a3f5f\",\"gridcolor\":\"white\",\"linecolor\":\"white\",\"minorgridcolor\":\"white\",\"startlinecolor\":\"#2a3f5f\"},\"type\":\"carpet\"}],\"choropleth\":[{\"colorbar\":{\"outlinewidth\":0,\"ticks\":\"\"},\"type\":\"choropleth\"}],\"contour\":[{\"colorbar\":{\"outlinewidth\":0,\"ticks\":\"\"},\"colorscale\":[[0.0,\"#0d0887\"],[0.1111111111111111,\"#46039f\"],[0.2222222222222222,\"#7201a8\"],[0.3333333333333333,\"#9c179e\"],[0.4444444444444444,\"#bd3786\"],[0.5555555555555556,\"#d8576b\"],[0.6666666666666666,\"#ed7953\"],[0.7777777777777778,\"#fb9f3a\"],[0.8888888888888888,\"#fdca26\"],[1.0,\"#f0f921\"]],\"type\":\"contour\"}],\"contourcarpet\":[{\"colorbar\":{\"outlinewidth\":0,\"ticks\":\"\"},\"type\":\"contourcarpet\"}],\"heatmap\":[{\"colorbar\":{\"outlinewidth\":0,\"ticks\":\"\"},\"colorscale\":[[0.0,\"#0d0887\"],[0.1111111111111111,\"#46039f\"],[0.2222222222222222,\"#7201a8\"],[0.3333333333333333,\"#9c179e\"],[0.4444444444444444,\"#bd3786\"],[0.5555555555555556,\"#d8576b\"],[0.6666666666666666,\"#ed7953\"],[0.7777777777777778,\"#fb9f3a\"],[0.8888888888888888,\"#fdca26\"],[1.0,\"#f0f921\"]],\"type\":\"heatmap\"}],\"heatmapgl\":[{\"colorbar\":{\"outlinewidth\":0,\"ticks\":\"\"},\"colorscale\":[[0.0,\"#0d0887\"],[0.1111111111111111,\"#46039f\"],[0.2222222222222222,\"#7201a8\"],[0.3333333333333333,\"#9c179e\"],[0.4444444444444444,\"#bd3786\"],[0.5555555555555556,\"#d8576b\"],[0.6666666666666666,\"#ed7953\"],[0.7777777777777778,\"#fb9f3a\"],[0.8888888888888888,\"#fdca26\"],[1.0,\"#f0f921\"]],\"type\":\"heatmapgl\"}],\"histogram\":[{\"marker\":{\"pattern\":{\"fillmode\":\"overlay\",\"size\":10,\"solidity\":0.2}},\"type\":\"histogram\"}],\"histogram2d\":[{\"colorbar\":{\"outlinewidth\":0,\"ticks\":\"\"},\"colorscale\":[[0.0,\"#0d0887\"],[0.1111111111111111,\"#46039f\"],[0.2222222222222222,\"#7201a8\"],[0.3333333333333333,\"#9c179e\"],[0.4444444444444444,\"#bd3786\"],[0.5555555555555556,\"#d8576b\"],[0.6666666666666666,\"#ed7953\"],[0.7777777777777778,\"#fb9f3a\"],[0.8888888888888888,\"#fdca26\"],[1.0,\"#f0f921\"]],\"type\":\"histogram2d\"}],\"histogram2dcontour\":[{\"colorbar\":{\"outlinewidth\":0,\"ticks\":\"\"},\"colorscale\":[[0.0,\"#0d0887\"],[0.1111111111111111,\"#46039f\"],[0.2222222222222222,\"#7201a8\"],[0.3333333333333333,\"#9c179e\"],[0.4444444444444444,\"#bd3786\"],[0.5555555555555556,\"#d8576b\"],[0.6666666666666666,\"#ed7953\"],[0.7777777777777778,\"#fb9f3a\"],[0.8888888888888888,\"#fdca26\"],[1.0,\"#f0f921\"]],\"type\":\"histogram2dcontour\"}],\"mesh3d\":[{\"colorbar\":{\"outlinewidth\":0,\"ticks\":\"\"},\"type\":\"mesh3d\"}],\"parcoords\":[{\"line\":{\"colorbar\":{\"outlinewidth\":0,\"ticks\":\"\"}},\"type\":\"parcoords\"}],\"pie\":[{\"automargin\":true,\"type\":\"pie\"}],\"scatter\":[{\"marker\":{\"colorbar\":{\"outlinewidth\":0,\"ticks\":\"\"}},\"type\":\"scatter\"}],\"scatter3d\":[{\"line\":{\"colorbar\":{\"outlinewidth\":0,\"ticks\":\"\"}},\"marker\":{\"colorbar\":{\"outlinewidth\":0,\"ticks\":\"\"}},\"type\":\"scatter3d\"}],\"scattercarpet\":[{\"marker\":{\"colorbar\":{\"outlinewidth\":0,\"ticks\":\"\"}},\"type\":\"scattercarpet\"}],\"scattergeo\":[{\"marker\":{\"colorbar\":{\"outlinewidth\":0,\"ticks\":\"\"}},\"type\":\"scattergeo\"}],\"scattergl\":[{\"marker\":{\"colorbar\":{\"outlinewidth\":0,\"ticks\":\"\"}},\"type\":\"scattergl\"}],\"scattermapbox\":[{\"marker\":{\"colorbar\":{\"outlinewidth\":0,\"ticks\":\"\"}},\"type\":\"scattermapbox\"}],\"scatterpolar\":[{\"marker\":{\"colorbar\":{\"outlinewidth\":0,\"ticks\":\"\"}},\"type\":\"scatterpolar\"}],\"scatterpolargl\":[{\"marker\":{\"colorbar\":{\"outlinewidth\":0,\"ticks\":\"\"}},\"type\":\"scatterpolargl\"}],\"scatterternary\":[{\"marker\":{\"colorbar\":{\"outlinewidth\":0,\"ticks\":\"\"}},\"type\":\"scatterternary\"}],\"surface\":[{\"colorbar\":{\"outlinewidth\":0,\"ticks\":\"\"},\"colorscale\":[[0.0,\"#0d0887\"],[0.1111111111111111,\"#46039f\"],[0.2222222222222222,\"#7201a8\"],[0.3333333333333333,\"#9c179e\"],[0.4444444444444444,\"#bd3786\"],[0.5555555555555556,\"#d8576b\"],[0.6666666666666666,\"#ed7953\"],[0.7777777777777778,\"#fb9f3a\"],[0.8888888888888888,\"#fdca26\"],[1.0,\"#f0f921\"]],\"type\":\"surface\"}],\"table\":[{\"cells\":{\"fill\":{\"color\":\"#EBF0F8\"},\"line\":{\"color\":\"white\"}},\"header\":{\"fill\":{\"color\":\"#C8D4E3\"},\"line\":{\"color\":\"white\"}},\"type\":\"table\"}]},\"layout\":{\"annotationdefaults\":{\"arrowcolor\":\"#2a3f5f\",\"arrowhead\":0,\"arrowwidth\":1},\"autotypenumbers\":\"strict\",\"coloraxis\":{\"colorbar\":{\"outlinewidth\":0,\"ticks\":\"\"}},\"colorscale\":{\"diverging\":[[0,\"#8e0152\"],[0.1,\"#c51b7d\"],[0.2,\"#de77ae\"],[0.3,\"#f1b6da\"],[0.4,\"#fde0ef\"],[0.5,\"#f7f7f7\"],[0.6,\"#e6f5d0\"],[0.7,\"#b8e186\"],[0.8,\"#7fbc41\"],[0.9,\"#4d9221\"],[1,\"#276419\"]],\"sequential\":[[0.0,\"#0d0887\"],[0.1111111111111111,\"#46039f\"],[0.2222222222222222,\"#7201a8\"],[0.3333333333333333,\"#9c179e\"],[0.4444444444444444,\"#bd3786\"],[0.5555555555555556,\"#d8576b\"],[0.6666666666666666,\"#ed7953\"],[0.7777777777777778,\"#fb9f3a\"],[0.8888888888888888,\"#fdca26\"],[1.0,\"#f0f921\"]],\"sequentialminus\":[[0.0,\"#0d0887\"],[0.1111111111111111,\"#46039f\"],[0.2222222222222222,\"#7201a8\"],[0.3333333333333333,\"#9c179e\"],[0.4444444444444444,\"#bd3786\"],[0.5555555555555556,\"#d8576b\"],[0.6666666666666666,\"#ed7953\"],[0.7777777777777778,\"#fb9f3a\"],[0.8888888888888888,\"#fdca26\"],[1.0,\"#f0f921\"]]},\"colorway\":[\"#636efa\",\"#EF553B\",\"#00cc96\",\"#ab63fa\",\"#FFA15A\",\"#19d3f3\",\"#FF6692\",\"#B6E880\",\"#FF97FF\",\"#FECB52\"],\"font\":{\"color\":\"#2a3f5f\"},\"geo\":{\"bgcolor\":\"white\",\"lakecolor\":\"white\",\"landcolor\":\"#E5ECF6\",\"showlakes\":true,\"showland\":true,\"subunitcolor\":\"white\"},\"hoverlabel\":{\"align\":\"left\"},\"hovermode\":\"closest\",\"mapbox\":{\"style\":\"light\"},\"paper_bgcolor\":\"white\",\"plot_bgcolor\":\"#E5ECF6\",\"polar\":{\"angularaxis\":{\"gridcolor\":\"white\",\"linecolor\":\"white\",\"ticks\":\"\"},\"bgcolor\":\"#E5ECF6\",\"radialaxis\":{\"gridcolor\":\"white\",\"linecolor\":\"white\",\"ticks\":\"\"}},\"scene\":{\"xaxis\":{\"backgroundcolor\":\"#E5ECF6\",\"gridcolor\":\"white\",\"gridwidth\":2,\"linecolor\":\"white\",\"showbackground\":true,\"ticks\":\"\",\"zerolinecolor\":\"white\"},\"yaxis\":{\"backgroundcolor\":\"#E5ECF6\",\"gridcolor\":\"white\",\"gridwidth\":2,\"linecolor\":\"white\",\"showbackground\":true,\"ticks\":\"\",\"zerolinecolor\":\"white\"},\"zaxis\":{\"backgroundcolor\":\"#E5ECF6\",\"gridcolor\":\"white\",\"gridwidth\":2,\"linecolor\":\"white\",\"showbackground\":true,\"ticks\":\"\",\"zerolinecolor\":\"white\"}},\"shapedefaults\":{\"line\":{\"color\":\"#2a3f5f\"}},\"ternary\":{\"aaxis\":{\"gridcolor\":\"white\",\"linecolor\":\"white\",\"ticks\":\"\"},\"baxis\":{\"gridcolor\":\"white\",\"linecolor\":\"white\",\"ticks\":\"\"},\"bgcolor\":\"#E5ECF6\",\"caxis\":{\"gridcolor\":\"white\",\"linecolor\":\"white\",\"ticks\":\"\"}},\"title\":{\"x\":0.05},\"xaxis\":{\"automargin\":true,\"gridcolor\":\"white\",\"linecolor\":\"white\",\"ticks\":\"\",\"title\":{\"standoff\":15},\"zerolinecolor\":\"white\",\"zerolinewidth\":2},\"yaxis\":{\"automargin\":true,\"gridcolor\":\"white\",\"linecolor\":\"white\",\"ticks\":\"\",\"title\":{\"standoff\":15},\"zerolinecolor\":\"white\",\"zerolinewidth\":2}}},\"coloraxis\":{\"colorbar\":{\"title\":{\"text\":\"Var. %\"}},\"colorscale\":[[0.0,\"#CD3631\"],[0.09090909090909091,\"#D13732\"],[0.18181818181818182,\"#DB3934\"],[0.2727272727272727,\"#EF3F39\"],[0.36363636363636365,\"#F23F3A\"],[0.45454545454545453,\"#FD433D\"],[0.5454545454545454,\"#4FD191\"],[0.6363636363636364,\"#23C575\"],[0.7272727272727273,\"#21BA6E\"],[0.8181818181818182,\"#20B36B\"],[0.9090909090909091,\"#20B26A\"],[1.0,\"#18854F\"]],\"cmid\":0},\"legend\":{\"tracegroupgap\":0,\"title\":{\"font\":{\"color\":\"green\"}}},\"title\":{\"text\":\"Performance por SubSector\",\"font\":{\"family\":\"Arial Black\",\"color\":\"black\",\"size\":45},\"y\":0.95,\"x\":0.5,\"xanchor\":\"center\",\"yanchor\":\"top\"},\"height\":800,\"font\":{\"family\":\"Roboto\",\"color\":\"dimgray\"},\"paper_bgcolor\":\"white\"},                        {\"responsive\": true}                    ).then(function(){\n",
              "                            \n",
              "var gd = document.getElementById('f6d44c33-3d4b-4fa1-8921-4f376645afa4');\n",
              "var x = new MutationObserver(function (mutations, observer) {{\n",
              "        var display = window.getComputedStyle(gd).display;\n",
              "        if (!display || display === 'none') {{\n",
              "            console.log([gd, 'removed!']);\n",
              "            Plotly.purge(gd);\n",
              "            observer.disconnect();\n",
              "        }}\n",
              "}});\n",
              "\n",
              "// Listen for the removal of the full notebook cells\n",
              "var notebookContainer = gd.closest('#notebook-container');\n",
              "if (notebookContainer) {{\n",
              "    x.observe(notebookContainer, {childList: true});\n",
              "}}\n",
              "\n",
              "// Listen for the clearing of the current output cell\n",
              "var outputEl = gd.closest('.output');\n",
              "if (outputEl) {{\n",
              "    x.observe(outputEl, {childList: true});\n",
              "}}\n",
              "\n",
              "                        })                };                            </script>        </div>\n",
              "</body>\n",
              "</html>"
            ]
          },
          "metadata": {}
        }
      ]
    },
    {
      "cell_type": "code",
      "metadata": {
        "cellView": "form",
        "id": "U1JBuw9T_3jR",
        "colab": {
          "base_uri": "https://localhost:8080/",
          "height": 816
        },
        "outputId": "6ed301ef-deb4-46aa-ab50-d1faefad2667"
      },
      "source": [
        "#@title GICS ATIVOS\n",
        "\n",
        "fig_ibov_SubSetor =px.sunburst(data_frame=ibov, path=['Setor', 'Código'], values='Part. (%)', height = 800,\n",
        "                      color='Var. %', hover_data=['Código'],title=\"Performance por Ativo\",\n",
        "                      color_continuous_scale=['#CD3631', '#D13732','#DB3934','#EF3F39','#F23F3A','#FD433D', '#4FD191', '#23C575','#21BA6E', '#20B36B', '#20B26A', '#18854F'],color_continuous_midpoint=0)\n",
        "\n",
        "fig_ibov_SubSetor.update_traces(textfont_color='white', textfont_size=14)\n",
        "                       #hovertemplate='%{label}: %{value:.2f}%',)\n",
        "\n",
        "fig_ibov_SubSetor.update_layout(font_family=\"Roboto\",\n",
        "                       font_color=\"dimgray\", \n",
        "                       title_font_family=\"Arial Black\",\n",
        "                       #plot_bgcolor='white',\n",
        "                       paper_bgcolor='white',\n",
        "                       title_font_color=\"black\",\n",
        "                       legend_title_font_color=\"green\", \n",
        "                       title_font_size=45,)  \n",
        "\n",
        "fig_ibov_SubSetor.update_layout(\n",
        "    title={\n",
        "        'y':.95,\n",
        "        'x':0.5,\n",
        "        'xanchor': 'center',\n",
        "        'yanchor': 'top'})"
      ],
      "execution_count": null,
      "outputs": [
        {
          "output_type": "display_data",
          "data": {
            "text/html": [
              "<html>\n",
              "<head><meta charset=\"utf-8\" /></head>\n",
              "<body>\n",
              "    <div>            <script src=\"https://cdnjs.cloudflare.com/ajax/libs/mathjax/2.7.5/MathJax.js?config=TeX-AMS-MML_SVG\"></script><script type=\"text/javascript\">if (window.MathJax) {MathJax.Hub.Config({SVG: {font: \"STIX-Web\"}});}</script>                <script type=\"text/javascript\">window.PlotlyConfig = {MathJaxConfig: 'local'};</script>\n",
              "        <script src=\"https://cdn.plot.ly/plotly-2.8.3.min.js\"></script>                <div id=\"32218e11-fdfa-42c5-b55e-e5515dc40298\" class=\"plotly-graph-div\" style=\"height:800px; width:100%;\"></div>            <script type=\"text/javascript\">                                    window.PLOTLYENV=window.PLOTLYENV || {};                                    if (document.getElementById(\"32218e11-fdfa-42c5-b55e-e5515dc40298\")) {                    Plotly.newPlot(                        \"32218e11-fdfa-42c5-b55e-e5515dc40298\",                        [{\"branchvalues\":\"total\",\"customdata\":[[\"ABEV3\",1.04],[\"ALPA4\",-2.82],[\"AMER3\",0.36],[\"ASAI3\",-0.49000000000000005],[\"AZUL4\",-1.27],[\"B3SA3\",-1.04],[\"BBAS3\",-0.38],[\"BBDC3\",-0.12],[\"BBDC4\",0.31],[\"BBSE3\",0.54],[\"BEEF3\",1.54],[\"BIDI11\",0.24],[\"BIDI4\",-0.42000000000000004],[\"BPAC11\",-1.47],[\"BPAN4\",0.84],[\"BRAP4\",0.76],[\"BRFS3\",1.98],[\"BRKM5\",1.13],[\"BRML3\",-0.9000000000000001],[\"CASH3\",-6.34],[\"CCRO3\",-0.67],[\"CIEL3\",0.47],[\"CMIG4\",-0.61],[\"COGN3\",-2.03],[\"CPFE3\",-1.07],[\"CPLE6\",0.0],[\"CRFB3\",0.59],[\"CSAN3\",-1.17],[\"CSNA3\",-0.44000000000000006],[\"CVCB3\",-2.61],[\"CYRE3\",-0.2],[\"DXCO3\",0.0],[\"ECOR3\",-1.34],[\"EGIE3\",-0.18],[\"ELET3\",-1.28],[\"ELET6\",-1.15],[\"EMBR3\",3.18],[\"ENBR3\",0.39],[\"ENEV3\",-2.29],[\"ENGI11\",-0.56],[\"EQTL3\",-0.96],[\"EZTC3\",-0.4000000000000001],[\"FLRY3\",-0.29],[\"GETT11\",-5.39],[\"GGBR4\",-1.93],[\"GNDI3\",-3.24],[\"GOAU4\",-0.97],[\"GOLL4\",-1.29],[\"HAPV3\",-4.16],[\"HYPE3\",-0.14],[\"IGTI11\",-89.95],[\"IRBR3\",-2.74],[\"ITSA4\",0.22],[\"ITUB4\",0.52],[\"JBSS3\",1.23],[\"JHSF3\",0.37],[\"KLBN11\",-0.84],[\"LAME4\",0.69],[\"LCAM3\",-1.69],[\"LREN3\",-1.7500000000000002],[\"LWSA3\",-0.15],[\"MGLU3\",0.65],[\"MRFG3\",4.17],[\"MRVE3\",-0.18],[\"MULT3\",-0.42],[\"NTCO3\",-0.35],[\"PCAR3\",0.23],[\"PETR3\",0.73],[\"PETR4\",0.6],[\"PETZ3\",-2.89],[\"PRIO3\",-0.86],[\"QUAL3\",-2.16],[\"RADL3\",0.08],[\"RAIL3\",-1.83],[\"RDOR3\",-0.21],[\"RENT3\",-1.6],[\"SANB11\",0.53],[\"SBSP3\",-0.65],[\"SOMA3\",-1.53],[\"SULA11\",-1.55],[\"SUZB3\",0.9400000000000001],[\"TAEE11\",-0.28],[\"TIMS3\",-0.08],[\"TOTS3\",-1.8100000000000003],[\"UGPA3\",0.0],[\"USIM5\",-0.27],[\"VALE3\",-0.96],[\"VBBR3\",-1.03],[\"VIIA3\",0.0],[\"VIVT3\",-0.02],[\"WEGE3\",-0.59],[\"YDUQ3\",-1.6900000000000002],[\"(?)\",-0.0391566265060241],[\"(?)\",-0.7016764132553608],[\"(?)\",0.46731051344743263],[\"(?)\",0.2707548346849657],[\"(?)\",-0.6090821458507961],[\"(?)\",-1.6974028268551233],[\"(?)\",-0.3347811447811448],[\"(?)\",-1.7314782608695654],[\"(?)\",-0.6806560449859418],[\"(?)\",-0.8642959770114942]],\"domain\":{\"x\":[0.0,1.0],\"y\":[0.0,1.0]},\"hovertemplate\":\"labels=%{label}<br>Part. (%)=%{value}<br>parent=%{parent}<br>id=%{id}<br>C\\u00f3digo=%{customdata[0]}<br>Var. %=%{color}<extra></extra>\",\"ids\":[\"Consumer Staples/ABEV3\",\"Consumer Discretionary/ALPA4\",\"Consumer Discretionary/AMER3\",\"Consumer Staples/ASAI3\",\"Industrials/AZUL4\",\"Financials/B3SA3\",\"Financials/BBAS3\",\"Financials/BBDC3\",\"Financials/BBDC4\",\"Financials/BBSE3\",\"Consumer Staples/BEEF3\",\"Financials/BIDI11\",\"Financials/BIDI4\",\"Financials/BPAC11\",\"Financials/BPAN4\",\"Materials/BRAP4\",\"Consumer Staples/BRFS3\",\"Materials/BRKM5\",\"Financials/BRML3\",\"Information Technology/CASH3\",\"Industrials/CCRO3\",\"Financials/CIEL3\",\"Utilities/CMIG4\",\"Consumer Staples/COGN3\",\"Utilities/CPFE3\",\"Utilities/CPLE6\",\"Consumer Staples/CRFB3\",\"Energy/CSAN3\",\"Materials/CSNA3\",\"Consumer Discretionary/CVCB3\",\"Consumer Discretionary/CYRE3\",\"Materials/DXCO3\",\"Industrials/ECOR3\",\"Utilities/EGIE3\",\"Utilities/ELET3\",\"Utilities/ELET6\",\"Industrials/EMBR3\",\"Utilities/ENBR3\",\"Utilities/ENEV3\",\"Utilities/ENGI11\",\"Utilities/EQTL3\",\"Consumer Discretionary/EZTC3\",\"Health Care/FLRY3\",\"Financials/GETT11\",\"Materials/GGBR4\",\"Health Care/GNDI3\",\"Materials/GOAU4\",\"Industrials/GOLL4\",\"Health Care/HAPV3\",\"Health Care/HYPE3\",\"Financials/IGTI11\",\"Financials/IRBR3\",\"Financials/ITSA4\",\"Financials/ITUB4\",\"Consumer Staples/JBSS3\",\"Consumer Discretionary/JHSF3\",\"Materials/KLBN11\",\"Consumer Discretionary/LAME4\",\"Consumer Staples/LCAM3\",\"Consumer Discretionary/LREN3\",\"Information Technology/LWSA3\",\"Consumer Discretionary/MGLU3\",\"Consumer Staples/MRFG3\",\"Consumer Discretionary/MRVE3\",\"Financials/MULT3\",\"Consumer Staples/NTCO3\",\"Consumer Staples/PCAR3\",\"Energy/PETR3\",\"Energy/PETR4\",\"Consumer Discretionary/PETZ3\",\"Energy/PRIO3\",\"Health Care/QUAL3\",\"Health Care/RADL3\",\"Industrials/RAIL3\",\"Health Care/RDOR3\",\"Consumer Staples/RENT3\",\"Financials/SANB11\",\"Utilities/SBSP3\",\"Consumer Discretionary/SOMA3\",\"Financials/SULA11\",\"Materials/SUZB3\",\"Utilities/TAEE11\",\"Communication Services/TIMS3\",\"Information Technology/TOTS3\",\"Energy/UGPA3\",\"Materials/USIM5\",\"Materials/VALE3\",\"Energy/VBBR3\",\"Consumer Discretionary/VIIA3\",\"Communication Services/VIVT3\",\"Industrials/WEGE3\",\"Consumer Staples/YDUQ3\",\"Communication Services\",\"Consumer Discretionary\",\"Consumer Staples\",\"Energy\",\"Financials\",\"Health Care\",\"Industrials\",\"Information Technology\",\"Materials\",\"Utilities\"],\"labels\":[\"ABEV3\",\"ALPA4\",\"AMER3\",\"ASAI3\",\"AZUL4\",\"B3SA3\",\"BBAS3\",\"BBDC3\",\"BBDC4\",\"BBSE3\",\"BEEF3\",\"BIDI11\",\"BIDI4\",\"BPAC11\",\"BPAN4\",\"BRAP4\",\"BRFS3\",\"BRKM5\",\"BRML3\",\"CASH3\",\"CCRO3\",\"CIEL3\",\"CMIG4\",\"COGN3\",\"CPFE3\",\"CPLE6\",\"CRFB3\",\"CSAN3\",\"CSNA3\",\"CVCB3\",\"CYRE3\",\"DXCO3\",\"ECOR3\",\"EGIE3\",\"ELET3\",\"ELET6\",\"EMBR3\",\"ENBR3\",\"ENEV3\",\"ENGI11\",\"EQTL3\",\"EZTC3\",\"FLRY3\",\"GETT11\",\"GGBR4\",\"GNDI3\",\"GOAU4\",\"GOLL4\",\"HAPV3\",\"HYPE3\",\"IGTI11\",\"IRBR3\",\"ITSA4\",\"ITUB4\",\"JBSS3\",\"JHSF3\",\"KLBN11\",\"LAME4\",\"LCAM3\",\"LREN3\",\"LWSA3\",\"MGLU3\",\"MRFG3\",\"MRVE3\",\"MULT3\",\"NTCO3\",\"PCAR3\",\"PETR3\",\"PETR4\",\"PETZ3\",\"PRIO3\",\"QUAL3\",\"RADL3\",\"RAIL3\",\"RDOR3\",\"RENT3\",\"SANB11\",\"SBSP3\",\"SOMA3\",\"SULA11\",\"SUZB3\",\"TAEE11\",\"TIMS3\",\"TOTS3\",\"UGPA3\",\"USIM5\",\"VALE3\",\"VBBR3\",\"VIIA3\",\"VIVT3\",\"WEGE3\",\"YDUQ3\",\"Communication Services\",\"Consumer Discretionary\",\"Consumer Staples\",\"Energy\",\"Financials\",\"Health Care\",\"Industrials\",\"Information Technology\",\"Materials\",\"Utilities\"],\"marker\":{\"coloraxis\":\"coloraxis\",\"colors\":[1.04,-2.82,0.36,-0.49000000000000005,-1.27,-1.04,-0.38,-0.12,0.31,0.54,1.54,0.24,-0.42000000000000004,-1.47,0.84,0.76,1.98,1.13,-0.9000000000000001,-6.34,-0.67,0.47,-0.61,-2.03,-1.07,0.0,0.59,-1.17,-0.44000000000000006,-2.61,-0.2,0.0,-1.34,-0.18,-1.28,-1.15,3.18,0.39,-2.29,-0.56,-0.96,-0.4000000000000001,-0.29,-5.39,-1.93,-3.24,-0.97,-1.29,-4.16,-0.14,-89.95,-2.74,0.22,0.52,1.23,0.37,-0.84,0.69,-1.69,-1.7500000000000002,-0.15,0.65,4.17,-0.18,-0.42,-0.35,0.23,0.73,0.6,-2.89,-0.86,-2.16,0.08,-1.83,-0.21,-1.6,0.53,-0.65,-1.53,-1.55,0.9400000000000001,-0.28,-0.08,-1.8100000000000003,0.0,-0.27,-0.96,-1.03,0.0,-0.02,-0.59,-1.6900000000000002,-0.0391566265060241,-0.7016764132553608,0.46731051344743263,0.2707548346849657,-0.6090821458507961,-1.6974028268551233,-0.3347811447811448,-1.7314782608695654,-0.6806560449859418,-0.8642959770114942]},\"name\":\"\",\"parents\":[\"Consumer Staples\",\"Consumer Discretionary\",\"Consumer Discretionary\",\"Consumer Staples\",\"Industrials\",\"Financials\",\"Financials\",\"Financials\",\"Financials\",\"Financials\",\"Consumer Staples\",\"Financials\",\"Financials\",\"Financials\",\"Financials\",\"Materials\",\"Consumer Staples\",\"Materials\",\"Financials\",\"Information Technology\",\"Industrials\",\"Financials\",\"Utilities\",\"Consumer Staples\",\"Utilities\",\"Utilities\",\"Consumer Staples\",\"Energy\",\"Materials\",\"Consumer Discretionary\",\"Consumer Discretionary\",\"Materials\",\"Industrials\",\"Utilities\",\"Utilities\",\"Utilities\",\"Industrials\",\"Utilities\",\"Utilities\",\"Utilities\",\"Utilities\",\"Consumer Discretionary\",\"Health Care\",\"Financials\",\"Materials\",\"Health Care\",\"Materials\",\"Industrials\",\"Health Care\",\"Health Care\",\"Financials\",\"Financials\",\"Financials\",\"Financials\",\"Consumer Staples\",\"Consumer Discretionary\",\"Materials\",\"Consumer Discretionary\",\"Consumer Staples\",\"Consumer Discretionary\",\"Information Technology\",\"Consumer Discretionary\",\"Consumer Staples\",\"Consumer Discretionary\",\"Financials\",\"Consumer Staples\",\"Consumer Staples\",\"Energy\",\"Energy\",\"Consumer Discretionary\",\"Energy\",\"Health Care\",\"Health Care\",\"Industrials\",\"Health Care\",\"Consumer Staples\",\"Financials\",\"Utilities\",\"Consumer Discretionary\",\"Financials\",\"Materials\",\"Utilities\",\"Communication Services\",\"Information Technology\",\"Energy\",\"Materials\",\"Materials\",\"Energy\",\"Consumer Discretionary\",\"Communication Services\",\"Industrials\",\"Consumer Staples\",\"\",\"\",\"\",\"\",\"\",\"\",\"\",\"\",\"\",\"\"],\"values\":[3.45,0.31,0.85,0.57,0.44,3.52,2.11,1.14,4.59,0.7,0.13,0.7,0.09,1.42,0.19,0.31,0.94,0.77,0.33,0.09,0.68,0.12,0.74,0.23,0.26,0.5,0.32,1.26,0.81,0.16,0.22,0.23,0.13,0.5,0.61,0.4,0.91,0.24,0.9,0.56,1.16,0.1,0.27,0.02,1.5,1.85,0.4,0.16,0.7,0.6,0.13,0.25,2.17,5.19,2.58,0.08,1.08,0.25,0.4,1.2,0.3,0.89,0.4,0.17,0.26,1.1,0.18,5.31,6.58,0.26,0.84,0.23,1.31,1.09,0.7,1.66,0.56,0.69,0.28,0.37,2.23,0.4,0.53,0.76,0.79,0.39,13.62,1.25,0.36,1.13,2.53,0.31,1.66,5.13,12.270000000000001,16.029999999999998,23.86,5.660000000000001,5.9399999999999995,1.15,21.34,6.960000000000001],\"type\":\"sunburst\",\"textfont\":{\"color\":\"white\",\"size\":14}}],                        {\"template\":{\"data\":{\"bar\":[{\"error_x\":{\"color\":\"#2a3f5f\"},\"error_y\":{\"color\":\"#2a3f5f\"},\"marker\":{\"line\":{\"color\":\"#E5ECF6\",\"width\":0.5},\"pattern\":{\"fillmode\":\"overlay\",\"size\":10,\"solidity\":0.2}},\"type\":\"bar\"}],\"barpolar\":[{\"marker\":{\"line\":{\"color\":\"#E5ECF6\",\"width\":0.5},\"pattern\":{\"fillmode\":\"overlay\",\"size\":10,\"solidity\":0.2}},\"type\":\"barpolar\"}],\"carpet\":[{\"aaxis\":{\"endlinecolor\":\"#2a3f5f\",\"gridcolor\":\"white\",\"linecolor\":\"white\",\"minorgridcolor\":\"white\",\"startlinecolor\":\"#2a3f5f\"},\"baxis\":{\"endlinecolor\":\"#2a3f5f\",\"gridcolor\":\"white\",\"linecolor\":\"white\",\"minorgridcolor\":\"white\",\"startlinecolor\":\"#2a3f5f\"},\"type\":\"carpet\"}],\"choropleth\":[{\"colorbar\":{\"outlinewidth\":0,\"ticks\":\"\"},\"type\":\"choropleth\"}],\"contour\":[{\"colorbar\":{\"outlinewidth\":0,\"ticks\":\"\"},\"colorscale\":[[0.0,\"#0d0887\"],[0.1111111111111111,\"#46039f\"],[0.2222222222222222,\"#7201a8\"],[0.3333333333333333,\"#9c179e\"],[0.4444444444444444,\"#bd3786\"],[0.5555555555555556,\"#d8576b\"],[0.6666666666666666,\"#ed7953\"],[0.7777777777777778,\"#fb9f3a\"],[0.8888888888888888,\"#fdca26\"],[1.0,\"#f0f921\"]],\"type\":\"contour\"}],\"contourcarpet\":[{\"colorbar\":{\"outlinewidth\":0,\"ticks\":\"\"},\"type\":\"contourcarpet\"}],\"heatmap\":[{\"colorbar\":{\"outlinewidth\":0,\"ticks\":\"\"},\"colorscale\":[[0.0,\"#0d0887\"],[0.1111111111111111,\"#46039f\"],[0.2222222222222222,\"#7201a8\"],[0.3333333333333333,\"#9c179e\"],[0.4444444444444444,\"#bd3786\"],[0.5555555555555556,\"#d8576b\"],[0.6666666666666666,\"#ed7953\"],[0.7777777777777778,\"#fb9f3a\"],[0.8888888888888888,\"#fdca26\"],[1.0,\"#f0f921\"]],\"type\":\"heatmap\"}],\"heatmapgl\":[{\"colorbar\":{\"outlinewidth\":0,\"ticks\":\"\"},\"colorscale\":[[0.0,\"#0d0887\"],[0.1111111111111111,\"#46039f\"],[0.2222222222222222,\"#7201a8\"],[0.3333333333333333,\"#9c179e\"],[0.4444444444444444,\"#bd3786\"],[0.5555555555555556,\"#d8576b\"],[0.6666666666666666,\"#ed7953\"],[0.7777777777777778,\"#fb9f3a\"],[0.8888888888888888,\"#fdca26\"],[1.0,\"#f0f921\"]],\"type\":\"heatmapgl\"}],\"histogram\":[{\"marker\":{\"pattern\":{\"fillmode\":\"overlay\",\"size\":10,\"solidity\":0.2}},\"type\":\"histogram\"}],\"histogram2d\":[{\"colorbar\":{\"outlinewidth\":0,\"ticks\":\"\"},\"colorscale\":[[0.0,\"#0d0887\"],[0.1111111111111111,\"#46039f\"],[0.2222222222222222,\"#7201a8\"],[0.3333333333333333,\"#9c179e\"],[0.4444444444444444,\"#bd3786\"],[0.5555555555555556,\"#d8576b\"],[0.6666666666666666,\"#ed7953\"],[0.7777777777777778,\"#fb9f3a\"],[0.8888888888888888,\"#fdca26\"],[1.0,\"#f0f921\"]],\"type\":\"histogram2d\"}],\"histogram2dcontour\":[{\"colorbar\":{\"outlinewidth\":0,\"ticks\":\"\"},\"colorscale\":[[0.0,\"#0d0887\"],[0.1111111111111111,\"#46039f\"],[0.2222222222222222,\"#7201a8\"],[0.3333333333333333,\"#9c179e\"],[0.4444444444444444,\"#bd3786\"],[0.5555555555555556,\"#d8576b\"],[0.6666666666666666,\"#ed7953\"],[0.7777777777777778,\"#fb9f3a\"],[0.8888888888888888,\"#fdca26\"],[1.0,\"#f0f921\"]],\"type\":\"histogram2dcontour\"}],\"mesh3d\":[{\"colorbar\":{\"outlinewidth\":0,\"ticks\":\"\"},\"type\":\"mesh3d\"}],\"parcoords\":[{\"line\":{\"colorbar\":{\"outlinewidth\":0,\"ticks\":\"\"}},\"type\":\"parcoords\"}],\"pie\":[{\"automargin\":true,\"type\":\"pie\"}],\"scatter\":[{\"marker\":{\"colorbar\":{\"outlinewidth\":0,\"ticks\":\"\"}},\"type\":\"scatter\"}],\"scatter3d\":[{\"line\":{\"colorbar\":{\"outlinewidth\":0,\"ticks\":\"\"}},\"marker\":{\"colorbar\":{\"outlinewidth\":0,\"ticks\":\"\"}},\"type\":\"scatter3d\"}],\"scattercarpet\":[{\"marker\":{\"colorbar\":{\"outlinewidth\":0,\"ticks\":\"\"}},\"type\":\"scattercarpet\"}],\"scattergeo\":[{\"marker\":{\"colorbar\":{\"outlinewidth\":0,\"ticks\":\"\"}},\"type\":\"scattergeo\"}],\"scattergl\":[{\"marker\":{\"colorbar\":{\"outlinewidth\":0,\"ticks\":\"\"}},\"type\":\"scattergl\"}],\"scattermapbox\":[{\"marker\":{\"colorbar\":{\"outlinewidth\":0,\"ticks\":\"\"}},\"type\":\"scattermapbox\"}],\"scatterpolar\":[{\"marker\":{\"colorbar\":{\"outlinewidth\":0,\"ticks\":\"\"}},\"type\":\"scatterpolar\"}],\"scatterpolargl\":[{\"marker\":{\"colorbar\":{\"outlinewidth\":0,\"ticks\":\"\"}},\"type\":\"scatterpolargl\"}],\"scatterternary\":[{\"marker\":{\"colorbar\":{\"outlinewidth\":0,\"ticks\":\"\"}},\"type\":\"scatterternary\"}],\"surface\":[{\"colorbar\":{\"outlinewidth\":0,\"ticks\":\"\"},\"colorscale\":[[0.0,\"#0d0887\"],[0.1111111111111111,\"#46039f\"],[0.2222222222222222,\"#7201a8\"],[0.3333333333333333,\"#9c179e\"],[0.4444444444444444,\"#bd3786\"],[0.5555555555555556,\"#d8576b\"],[0.6666666666666666,\"#ed7953\"],[0.7777777777777778,\"#fb9f3a\"],[0.8888888888888888,\"#fdca26\"],[1.0,\"#f0f921\"]],\"type\":\"surface\"}],\"table\":[{\"cells\":{\"fill\":{\"color\":\"#EBF0F8\"},\"line\":{\"color\":\"white\"}},\"header\":{\"fill\":{\"color\":\"#C8D4E3\"},\"line\":{\"color\":\"white\"}},\"type\":\"table\"}]},\"layout\":{\"annotationdefaults\":{\"arrowcolor\":\"#2a3f5f\",\"arrowhead\":0,\"arrowwidth\":1},\"autotypenumbers\":\"strict\",\"coloraxis\":{\"colorbar\":{\"outlinewidth\":0,\"ticks\":\"\"}},\"colorscale\":{\"diverging\":[[0,\"#8e0152\"],[0.1,\"#c51b7d\"],[0.2,\"#de77ae\"],[0.3,\"#f1b6da\"],[0.4,\"#fde0ef\"],[0.5,\"#f7f7f7\"],[0.6,\"#e6f5d0\"],[0.7,\"#b8e186\"],[0.8,\"#7fbc41\"],[0.9,\"#4d9221\"],[1,\"#276419\"]],\"sequential\":[[0.0,\"#0d0887\"],[0.1111111111111111,\"#46039f\"],[0.2222222222222222,\"#7201a8\"],[0.3333333333333333,\"#9c179e\"],[0.4444444444444444,\"#bd3786\"],[0.5555555555555556,\"#d8576b\"],[0.6666666666666666,\"#ed7953\"],[0.7777777777777778,\"#fb9f3a\"],[0.8888888888888888,\"#fdca26\"],[1.0,\"#f0f921\"]],\"sequentialminus\":[[0.0,\"#0d0887\"],[0.1111111111111111,\"#46039f\"],[0.2222222222222222,\"#7201a8\"],[0.3333333333333333,\"#9c179e\"],[0.4444444444444444,\"#bd3786\"],[0.5555555555555556,\"#d8576b\"],[0.6666666666666666,\"#ed7953\"],[0.7777777777777778,\"#fb9f3a\"],[0.8888888888888888,\"#fdca26\"],[1.0,\"#f0f921\"]]},\"colorway\":[\"#636efa\",\"#EF553B\",\"#00cc96\",\"#ab63fa\",\"#FFA15A\",\"#19d3f3\",\"#FF6692\",\"#B6E880\",\"#FF97FF\",\"#FECB52\"],\"font\":{\"color\":\"#2a3f5f\"},\"geo\":{\"bgcolor\":\"white\",\"lakecolor\":\"white\",\"landcolor\":\"#E5ECF6\",\"showlakes\":true,\"showland\":true,\"subunitcolor\":\"white\"},\"hoverlabel\":{\"align\":\"left\"},\"hovermode\":\"closest\",\"mapbox\":{\"style\":\"light\"},\"paper_bgcolor\":\"white\",\"plot_bgcolor\":\"#E5ECF6\",\"polar\":{\"angularaxis\":{\"gridcolor\":\"white\",\"linecolor\":\"white\",\"ticks\":\"\"},\"bgcolor\":\"#E5ECF6\",\"radialaxis\":{\"gridcolor\":\"white\",\"linecolor\":\"white\",\"ticks\":\"\"}},\"scene\":{\"xaxis\":{\"backgroundcolor\":\"#E5ECF6\",\"gridcolor\":\"white\",\"gridwidth\":2,\"linecolor\":\"white\",\"showbackground\":true,\"ticks\":\"\",\"zerolinecolor\":\"white\"},\"yaxis\":{\"backgroundcolor\":\"#E5ECF6\",\"gridcolor\":\"white\",\"gridwidth\":2,\"linecolor\":\"white\",\"showbackground\":true,\"ticks\":\"\",\"zerolinecolor\":\"white\"},\"zaxis\":{\"backgroundcolor\":\"#E5ECF6\",\"gridcolor\":\"white\",\"gridwidth\":2,\"linecolor\":\"white\",\"showbackground\":true,\"ticks\":\"\",\"zerolinecolor\":\"white\"}},\"shapedefaults\":{\"line\":{\"color\":\"#2a3f5f\"}},\"ternary\":{\"aaxis\":{\"gridcolor\":\"white\",\"linecolor\":\"white\",\"ticks\":\"\"},\"baxis\":{\"gridcolor\":\"white\",\"linecolor\":\"white\",\"ticks\":\"\"},\"bgcolor\":\"#E5ECF6\",\"caxis\":{\"gridcolor\":\"white\",\"linecolor\":\"white\",\"ticks\":\"\"}},\"title\":{\"x\":0.05},\"xaxis\":{\"automargin\":true,\"gridcolor\":\"white\",\"linecolor\":\"white\",\"ticks\":\"\",\"title\":{\"standoff\":15},\"zerolinecolor\":\"white\",\"zerolinewidth\":2},\"yaxis\":{\"automargin\":true,\"gridcolor\":\"white\",\"linecolor\":\"white\",\"ticks\":\"\",\"title\":{\"standoff\":15},\"zerolinecolor\":\"white\",\"zerolinewidth\":2}}},\"coloraxis\":{\"colorbar\":{\"title\":{\"text\":\"Var. %\"}},\"colorscale\":[[0.0,\"#CD3631\"],[0.09090909090909091,\"#D13732\"],[0.18181818181818182,\"#DB3934\"],[0.2727272727272727,\"#EF3F39\"],[0.36363636363636365,\"#F23F3A\"],[0.45454545454545453,\"#FD433D\"],[0.5454545454545454,\"#4FD191\"],[0.6363636363636364,\"#23C575\"],[0.7272727272727273,\"#21BA6E\"],[0.8181818181818182,\"#20B36B\"],[0.9090909090909091,\"#20B26A\"],[1.0,\"#18854F\"]],\"cmid\":0},\"legend\":{\"tracegroupgap\":0,\"title\":{\"font\":{\"color\":\"green\"}}},\"title\":{\"text\":\"Performance por Ativo\",\"font\":{\"family\":\"Arial Black\",\"color\":\"black\",\"size\":45},\"y\":0.95,\"x\":0.5,\"xanchor\":\"center\",\"yanchor\":\"top\"},\"height\":800,\"font\":{\"family\":\"Roboto\",\"color\":\"dimgray\"},\"paper_bgcolor\":\"white\"},                        {\"responsive\": true}                    ).then(function(){\n",
              "                            \n",
              "var gd = document.getElementById('32218e11-fdfa-42c5-b55e-e5515dc40298');\n",
              "var x = new MutationObserver(function (mutations, observer) {{\n",
              "        var display = window.getComputedStyle(gd).display;\n",
              "        if (!display || display === 'none') {{\n",
              "            console.log([gd, 'removed!']);\n",
              "            Plotly.purge(gd);\n",
              "            observer.disconnect();\n",
              "        }}\n",
              "}});\n",
              "\n",
              "// Listen for the removal of the full notebook cells\n",
              "var notebookContainer = gd.closest('#notebook-container');\n",
              "if (notebookContainer) {{\n",
              "    x.observe(notebookContainer, {childList: true});\n",
              "}}\n",
              "\n",
              "// Listen for the clearing of the current output cell\n",
              "var outputEl = gd.closest('.output');\n",
              "if (outputEl) {{\n",
              "    x.observe(outputEl, {childList: true});\n",
              "}}\n",
              "\n",
              "                        })                };                            </script>        </div>\n",
              "</body>\n",
              "</html>"
            ]
          },
          "metadata": {}
        }
      ]
    }
  ]
}